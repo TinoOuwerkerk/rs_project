{
 "cells": [
  {
   "cell_type": "markdown",
   "metadata": {
    "id": "di7xQElZCe93"
   },
   "source": [
    "## Import"
   ]
  },
  {
   "cell_type": "code",
   "execution_count": 1,
   "metadata": {
    "colab": {
     "base_uri": "https://localhost:8080/"
    },
    "executionInfo": {
     "elapsed": 33234,
     "status": "ok",
     "timestamp": 1679937105168,
     "user": {
      "displayName": "Αθανάσιος Σουλιώτης",
      "userId": "16355387212771253692"
     },
     "user_tz": -120
    },
    "id": "FimcNIk188_k",
    "outputId": "e2704ccf-5772-4e19-862c-4c29766c209f"
   },
   "outputs": [
    {
     "name": "stdout",
     "output_type": "stream",
     "text": [
      "Requirement already satisfied: kneed in c:\\users\\tinot\\anaconda3\\envs\\rs\\lib\\site-packages (0.8.2)\n",
      "Requirement already satisfied: scipy>=1.0.0 in c:\\users\\tinot\\anaconda3\\envs\\rs\\lib\\site-packages (from kneed) (1.10.1)\n",
      "Requirement already satisfied: numpy>=1.14.2 in c:\\users\\tinot\\anaconda3\\envs\\rs\\lib\\site-packages (from kneed) (1.24.2)\n",
      "Requirement already satisfied: recmetrics in c:\\users\\tinot\\anaconda3\\envs\\rs\\lib\\site-packages (0.1.5)\n",
      "Requirement already satisfied: scikit-learn<2.0.0,>=1.0.2 in c:\\users\\tinot\\anaconda3\\envs\\rs\\lib\\site-packages (from recmetrics) (1.2.1)\n",
      "Requirement already satisfied: pandas<2.0.0,>=1.1.3 in c:\\users\\tinot\\anaconda3\\envs\\rs\\lib\\site-packages (from recmetrics) (1.5.3)\n",
      "Requirement already satisfied: pytest-cov<3.0.0,>=2.10.1 in c:\\users\\tinot\\anaconda3\\envs\\rs\\lib\\site-packages (from recmetrics) (2.12.1)\n",
      "Requirement already satisfied: funcsigs<2.0.0,>=1.0.2 in c:\\users\\tinot\\anaconda3\\envs\\rs\\lib\\site-packages (from recmetrics) (1.0.2)\n",
      "Requirement already satisfied: seaborn<0.12.0,>=0.11.0 in c:\\users\\tinot\\anaconda3\\envs\\rs\\lib\\site-packages (from recmetrics) (0.11.2)\n",
      "Requirement already satisfied: matplotlib<4.0.0,>=3.3.2 in c:\\users\\tinot\\anaconda3\\envs\\rs\\lib\\site-packages (from recmetrics) (3.7.0)\n",
      "Requirement already satisfied: jupyter<2.0.0,>=1.0.0 in c:\\users\\tinot\\anaconda3\\envs\\rs\\lib\\site-packages (from recmetrics) (1.0.0)\n",
      "Collecting plotly<5.0.0,>=4.11.0\n",
      "  Using cached plotly-4.14.3-py2.py3-none-any.whl (13.2 MB)\n",
      "Requirement already satisfied: twine<5.0.0,>=4.0.0 in c:\\users\\tinot\\anaconda3\\envs\\rs\\lib\\site-packages (from recmetrics) (4.0.2)\n",
      "Requirement already satisfied: scipy<2.0.0,>=1.5.2 in c:\\users\\tinot\\anaconda3\\envs\\rs\\lib\\site-packages (from recmetrics) (1.10.1)\n",
      "Requirement already satisfied: ipython<8.0.0,>=7.18.1 in c:\\users\\tinot\\anaconda3\\envs\\rs\\lib\\site-packages (from recmetrics) (7.34.0)\n",
      "Requirement already satisfied: pickleshare in c:\\users\\tinot\\anaconda3\\envs\\rs\\lib\\site-packages (from ipython<8.0.0,>=7.18.1->recmetrics) (0.7.5)\n",
      "Requirement already satisfied: prompt-toolkit!=3.0.0,!=3.0.1,<3.1.0,>=2.0.0 in c:\\users\\tinot\\anaconda3\\envs\\rs\\lib\\site-packages (from ipython<8.0.0,>=7.18.1->recmetrics) (3.0.36)\n",
      "Requirement already satisfied: colorama in c:\\users\\tinot\\anaconda3\\envs\\rs\\lib\\site-packages (from ipython<8.0.0,>=7.18.1->recmetrics) (0.4.6)\n",
      "Requirement already satisfied: traitlets>=4.2 in c:\\users\\tinot\\anaconda3\\envs\\rs\\lib\\site-packages (from ipython<8.0.0,>=7.18.1->recmetrics) (5.9.0)\n",
      "Requirement already satisfied: decorator in c:\\users\\tinot\\anaconda3\\envs\\rs\\lib\\site-packages (from ipython<8.0.0,>=7.18.1->recmetrics) (5.1.1)\n",
      "Requirement already satisfied: setuptools>=18.5 in c:\\users\\tinot\\anaconda3\\envs\\rs\\lib\\site-packages (from ipython<8.0.0,>=7.18.1->recmetrics) (65.6.3)\n",
      "Requirement already satisfied: jedi>=0.16 in c:\\users\\tinot\\anaconda3\\envs\\rs\\lib\\site-packages (from ipython<8.0.0,>=7.18.1->recmetrics) (0.18.2)\n",
      "Requirement already satisfied: backcall in c:\\users\\tinot\\anaconda3\\envs\\rs\\lib\\site-packages (from ipython<8.0.0,>=7.18.1->recmetrics) (0.2.0)\n",
      "Requirement already satisfied: matplotlib-inline in c:\\users\\tinot\\anaconda3\\envs\\rs\\lib\\site-packages (from ipython<8.0.0,>=7.18.1->recmetrics) (0.1.6)\n",
      "Requirement already satisfied: pygments in c:\\users\\tinot\\anaconda3\\envs\\rs\\lib\\site-packages (from ipython<8.0.0,>=7.18.1->recmetrics) (2.14.0)\n",
      "Requirement already satisfied: ipykernel in c:\\users\\tinot\\anaconda3\\envs\\rs\\lib\\site-packages (from jupyter<2.0.0,>=1.0.0->recmetrics) (6.15.0)\n",
      "Requirement already satisfied: notebook in c:\\users\\tinot\\anaconda3\\envs\\rs\\lib\\site-packages (from jupyter<2.0.0,>=1.0.0->recmetrics) (6.5.3)\n",
      "Requirement already satisfied: ipywidgets in c:\\users\\tinot\\anaconda3\\envs\\rs\\lib\\site-packages (from jupyter<2.0.0,>=1.0.0->recmetrics) (8.0.5)\n",
      "Requirement already satisfied: qtconsole in c:\\users\\tinot\\anaconda3\\envs\\rs\\lib\\site-packages (from jupyter<2.0.0,>=1.0.0->recmetrics) (5.4.1)\n",
      "Requirement already satisfied: nbconvert in c:\\users\\tinot\\anaconda3\\envs\\rs\\lib\\site-packages (from jupyter<2.0.0,>=1.0.0->recmetrics) (7.2.10)\n",
      "Requirement already satisfied: jupyter-console in c:\\users\\tinot\\anaconda3\\envs\\rs\\lib\\site-packages (from jupyter<2.0.0,>=1.0.0->recmetrics) (6.6.3)\n",
      "Requirement already satisfied: fonttools>=4.22.0 in c:\\users\\tinot\\anaconda3\\envs\\rs\\lib\\site-packages (from matplotlib<4.0.0,>=3.3.2->recmetrics) (4.38.0)\n",
      "Requirement already satisfied: pyparsing>=2.3.1 in c:\\users\\tinot\\anaconda3\\envs\\rs\\lib\\site-packages (from matplotlib<4.0.0,>=3.3.2->recmetrics) (3.0.9)\n",
      "Requirement already satisfied: kiwisolver>=1.0.1 in c:\\users\\tinot\\anaconda3\\envs\\rs\\lib\\site-packages (from matplotlib<4.0.0,>=3.3.2->recmetrics) (1.4.4)\n",
      "Requirement already satisfied: numpy>=1.20 in c:\\users\\tinot\\anaconda3\\envs\\rs\\lib\\site-packages (from matplotlib<4.0.0,>=3.3.2->recmetrics) (1.24.2)\n",
      "Requirement already satisfied: packaging>=20.0 in c:\\users\\tinot\\anaconda3\\envs\\rs\\lib\\site-packages (from matplotlib<4.0.0,>=3.3.2->recmetrics) (23.0)\n",
      "Requirement already satisfied: python-dateutil>=2.7 in c:\\users\\tinot\\anaconda3\\envs\\rs\\lib\\site-packages (from matplotlib<4.0.0,>=3.3.2->recmetrics) (2.8.2)\n",
      "Requirement already satisfied: cycler>=0.10 in c:\\users\\tinot\\anaconda3\\envs\\rs\\lib\\site-packages (from matplotlib<4.0.0,>=3.3.2->recmetrics) (0.11.0)\n",
      "Requirement already satisfied: pillow>=6.2.0 in c:\\users\\tinot\\anaconda3\\envs\\rs\\lib\\site-packages (from matplotlib<4.0.0,>=3.3.2->recmetrics) (9.4.0)\n",
      "Requirement already satisfied: importlib-resources>=3.2.0 in c:\\users\\tinot\\anaconda3\\envs\\rs\\lib\\site-packages (from matplotlib<4.0.0,>=3.3.2->recmetrics) (5.10.2)\n",
      "Requirement already satisfied: contourpy>=1.0.1 in c:\\users\\tinot\\anaconda3\\envs\\rs\\lib\\site-packages (from matplotlib<4.0.0,>=3.3.2->recmetrics) (1.0.7)\n",
      "Requirement already satisfied: pytz>=2020.1 in c:\\users\\tinot\\anaconda3\\envs\\rs\\lib\\site-packages (from pandas<2.0.0,>=1.1.3->recmetrics) (2022.7.1)\n",
      "Requirement already satisfied: retrying>=1.3.3 in c:\\users\\tinot\\anaconda3\\envs\\rs\\lib\\site-packages (from plotly<5.0.0,>=4.11.0->recmetrics) (1.3.4)\n",
      "Requirement already satisfied: six in c:\\users\\tinot\\anaconda3\\envs\\rs\\lib\\site-packages (from plotly<5.0.0,>=4.11.0->recmetrics) (1.16.0)\n",
      "Requirement already satisfied: pytest>=4.6 in c:\\users\\tinot\\anaconda3\\envs\\rs\\lib\\site-packages (from pytest-cov<3.0.0,>=2.10.1->recmetrics) (7.2.2)\n",
      "Requirement already satisfied: toml in c:\\users\\tinot\\anaconda3\\envs\\rs\\lib\\site-packages (from pytest-cov<3.0.0,>=2.10.1->recmetrics) (0.10.2)\n",
      "Requirement already satisfied: coverage>=5.2.1 in c:\\users\\tinot\\anaconda3\\envs\\rs\\lib\\site-packages (from pytest-cov<3.0.0,>=2.10.1->recmetrics) (7.2.2)\n",
      "Requirement already satisfied: threadpoolctl>=2.0.0 in c:\\users\\tinot\\anaconda3\\envs\\rs\\lib\\site-packages (from scikit-learn<2.0.0,>=1.0.2->recmetrics) (3.1.0)\n",
      "Requirement already satisfied: joblib>=1.1.1 in c:\\users\\tinot\\anaconda3\\envs\\rs\\lib\\site-packages (from scikit-learn<2.0.0,>=1.0.2->recmetrics) (1.2.0)\n",
      "Requirement already satisfied: keyring>=15.1 in c:\\users\\tinot\\anaconda3\\envs\\rs\\lib\\site-packages (from twine<5.0.0,>=4.0.0->recmetrics) (23.13.1)\n",
      "Requirement already satisfied: requests>=2.20 in c:\\users\\tinot\\anaconda3\\envs\\rs\\lib\\site-packages (from twine<5.0.0,>=4.0.0->recmetrics) (2.28.2)\n",
      "Requirement already satisfied: rich>=12.0.0 in c:\\users\\tinot\\anaconda3\\envs\\rs\\lib\\site-packages (from twine<5.0.0,>=4.0.0->recmetrics) (13.3.1)\n",
      "Requirement already satisfied: urllib3>=1.26.0 in c:\\users\\tinot\\anaconda3\\envs\\rs\\lib\\site-packages (from twine<5.0.0,>=4.0.0->recmetrics) (1.26.14)\n",
      "Requirement already satisfied: importlib-metadata>=3.6 in c:\\users\\tinot\\anaconda3\\envs\\rs\\lib\\site-packages (from twine<5.0.0,>=4.0.0->recmetrics) (6.0.0)\n",
      "Requirement already satisfied: readme-renderer>=35.0 in c:\\users\\tinot\\anaconda3\\envs\\rs\\lib\\site-packages (from twine<5.0.0,>=4.0.0->recmetrics) (37.3)\n",
      "Requirement already satisfied: rfc3986>=1.4.0 in c:\\users\\tinot\\anaconda3\\envs\\rs\\lib\\site-packages (from twine<5.0.0,>=4.0.0->recmetrics) (2.0.0)\n",
      "Requirement already satisfied: pkginfo>=1.8.1 in c:\\users\\tinot\\anaconda3\\envs\\rs\\lib\\site-packages (from twine<5.0.0,>=4.0.0->recmetrics) (1.9.6)\n",
      "Requirement already satisfied: requests-toolbelt!=0.9.0,>=0.8.0 in c:\\users\\tinot\\anaconda3\\envs\\rs\\lib\\site-packages (from twine<5.0.0,>=4.0.0->recmetrics) (0.10.1)\n",
      "Requirement already satisfied: zipp>=0.5 in c:\\users\\tinot\\anaconda3\\envs\\rs\\lib\\site-packages (from importlib-metadata>=3.6->twine<5.0.0,>=4.0.0->recmetrics) (3.13.0)\n",
      "Requirement already satisfied: parso<0.9.0,>=0.8.0 in c:\\users\\tinot\\anaconda3\\envs\\rs\\lib\\site-packages (from jedi>=0.16->ipython<8.0.0,>=7.18.1->recmetrics) (0.8.3)\n",
      "Requirement already satisfied: jaraco.classes in c:\\users\\tinot\\anaconda3\\envs\\rs\\lib\\site-packages (from keyring>=15.1->twine<5.0.0,>=4.0.0->recmetrics) (3.2.3)\n",
      "Requirement already satisfied: pywin32-ctypes>=0.2.0 in c:\\users\\tinot\\anaconda3\\envs\\rs\\lib\\site-packages (from keyring>=15.1->twine<5.0.0,>=4.0.0->recmetrics) (0.2.0)\n",
      "Requirement already satisfied: wcwidth in c:\\users\\tinot\\anaconda3\\envs\\rs\\lib\\site-packages (from prompt-toolkit!=3.0.0,!=3.0.1,<3.1.0,>=2.0.0->ipython<8.0.0,>=7.18.1->recmetrics) (0.2.6)\n",
      "Requirement already satisfied: attrs>=19.2.0 in c:\\users\\tinot\\anaconda3\\envs\\rs\\lib\\site-packages (from pytest>=4.6->pytest-cov<3.0.0,>=2.10.1->recmetrics) (22.2.0)\n",
      "Requirement already satisfied: pluggy<2.0,>=0.12 in c:\\users\\tinot\\anaconda3\\envs\\rs\\lib\\site-packages (from pytest>=4.6->pytest-cov<3.0.0,>=2.10.1->recmetrics) (1.0.0)\n",
      "Requirement already satisfied: exceptiongroup>=1.0.0rc8 in c:\\users\\tinot\\anaconda3\\envs\\rs\\lib\\site-packages (from pytest>=4.6->pytest-cov<3.0.0,>=2.10.1->recmetrics) (1.1.1)\n",
      "Requirement already satisfied: iniconfig in c:\\users\\tinot\\anaconda3\\envs\\rs\\lib\\site-packages (from pytest>=4.6->pytest-cov<3.0.0,>=2.10.1->recmetrics) (2.0.0)\n",
      "Requirement already satisfied: tomli>=1.0.0 in c:\\users\\tinot\\anaconda3\\envs\\rs\\lib\\site-packages (from pytest>=4.6->pytest-cov<3.0.0,>=2.10.1->recmetrics) (2.0.1)\n",
      "Requirement already satisfied: bleach>=2.1.0 in c:\\users\\tinot\\anaconda3\\envs\\rs\\lib\\site-packages (from readme-renderer>=35.0->twine<5.0.0,>=4.0.0->recmetrics) (6.0.0)\n",
      "Requirement already satisfied: docutils>=0.13.1 in c:\\users\\tinot\\anaconda3\\envs\\rs\\lib\\site-packages (from readme-renderer>=35.0->twine<5.0.0,>=4.0.0->recmetrics) (0.19)\n",
      "Requirement already satisfied: certifi>=2017.4.17 in c:\\users\\tinot\\anaconda3\\envs\\rs\\lib\\site-packages (from requests>=2.20->twine<5.0.0,>=4.0.0->recmetrics) (2022.12.7)\n",
      "Requirement already satisfied: charset-normalizer<4,>=2 in c:\\users\\tinot\\anaconda3\\envs\\rs\\lib\\site-packages (from requests>=2.20->twine<5.0.0,>=4.0.0->recmetrics) (3.0.1)\n",
      "Requirement already satisfied: idna<4,>=2.5 in c:\\users\\tinot\\anaconda3\\envs\\rs\\lib\\site-packages (from requests>=2.20->twine<5.0.0,>=4.0.0->recmetrics) (3.4)\n",
      "Requirement already satisfied: markdown-it-py<3.0.0,>=2.1.0 in c:\\users\\tinot\\anaconda3\\envs\\rs\\lib\\site-packages (from rich>=12.0.0->twine<5.0.0,>=4.0.0->recmetrics) (2.1.0)\n",
      "Requirement already satisfied: typing-extensions<5.0,>=4.0.0 in c:\\users\\tinot\\anaconda3\\envs\\rs\\lib\\site-packages (from rich>=12.0.0->twine<5.0.0,>=4.0.0->recmetrics) (4.4.0)\n",
      "Requirement already satisfied: tornado>=6.1 in c:\\users\\tinot\\anaconda3\\envs\\rs\\lib\\site-packages (from ipykernel->jupyter<2.0.0,>=1.0.0->recmetrics) (6.2)\n",
      "Requirement already satisfied: debugpy>=1.0 in c:\\users\\tinot\\anaconda3\\envs\\rs\\lib\\site-packages (from ipykernel->jupyter<2.0.0,>=1.0.0->recmetrics) (1.5.1)\n",
      "Requirement already satisfied: psutil in c:\\users\\tinot\\anaconda3\\envs\\rs\\lib\\site-packages (from ipykernel->jupyter<2.0.0,>=1.0.0->recmetrics) (5.9.0)\n",
      "Requirement already satisfied: nest-asyncio in c:\\users\\tinot\\anaconda3\\envs\\rs\\lib\\site-packages (from ipykernel->jupyter<2.0.0,>=1.0.0->recmetrics) (1.5.6)\n",
      "Requirement already satisfied: jupyter-client>=6.1.12 in c:\\users\\tinot\\anaconda3\\envs\\rs\\lib\\site-packages (from ipykernel->jupyter<2.0.0,>=1.0.0->recmetrics) (8.0.2)\n",
      "Requirement already satisfied: pyzmq>=17 in c:\\users\\tinot\\anaconda3\\envs\\rs\\lib\\site-packages (from ipykernel->jupyter<2.0.0,>=1.0.0->recmetrics) (25.0.2)\n",
      "Requirement already satisfied: jupyterlab-widgets~=3.0 in c:\\users\\tinot\\anaconda3\\envs\\rs\\lib\\site-packages (from ipywidgets->jupyter<2.0.0,>=1.0.0->recmetrics) (3.0.6)\n",
      "Requirement already satisfied: widgetsnbextension~=4.0 in c:\\users\\tinot\\anaconda3\\envs\\rs\\lib\\site-packages (from ipywidgets->jupyter<2.0.0,>=1.0.0->recmetrics) (4.0.6)\n",
      "Requirement already satisfied: jupyter-core!=5.0.*,>=4.12 in c:\\users\\tinot\\anaconda3\\envs\\rs\\lib\\site-packages (from jupyter-console->jupyter<2.0.0,>=1.0.0->recmetrics) (5.2.0)\n",
      "Requirement already satisfied: markupsafe>=2.0 in c:\\users\\tinot\\anaconda3\\envs\\rs\\lib\\site-packages (from nbconvert->jupyter<2.0.0,>=1.0.0->recmetrics) (2.1.2)\n",
      "Requirement already satisfied: nbclient>=0.5.0 in c:\\users\\tinot\\anaconda3\\envs\\rs\\lib\\site-packages (from nbconvert->jupyter<2.0.0,>=1.0.0->recmetrics) (0.7.2)\n",
      "Requirement already satisfied: nbformat>=5.1 in c:\\users\\tinot\\anaconda3\\envs\\rs\\lib\\site-packages (from nbconvert->jupyter<2.0.0,>=1.0.0->recmetrics) (5.8.0)\n",
      "Requirement already satisfied: beautifulsoup4 in c:\\users\\tinot\\anaconda3\\envs\\rs\\lib\\site-packages (from nbconvert->jupyter<2.0.0,>=1.0.0->recmetrics) (4.11.2)\n",
      "Requirement already satisfied: pandocfilters>=1.4.1 in c:\\users\\tinot\\anaconda3\\envs\\rs\\lib\\site-packages (from nbconvert->jupyter<2.0.0,>=1.0.0->recmetrics) (1.5.0)\n",
      "Requirement already satisfied: tinycss2 in c:\\users\\tinot\\anaconda3\\envs\\rs\\lib\\site-packages (from nbconvert->jupyter<2.0.0,>=1.0.0->recmetrics) (1.2.1)\n",
      "Requirement already satisfied: mistune<3,>=2.0.3 in c:\\users\\tinot\\anaconda3\\envs\\rs\\lib\\site-packages (from nbconvert->jupyter<2.0.0,>=1.0.0->recmetrics) (2.0.5)\n",
      "Requirement already satisfied: jupyterlab-pygments in c:\\users\\tinot\\anaconda3\\envs\\rs\\lib\\site-packages (from nbconvert->jupyter<2.0.0,>=1.0.0->recmetrics) (0.2.2)\n",
      "Requirement already satisfied: jinja2>=3.0 in c:\\users\\tinot\\anaconda3\\envs\\rs\\lib\\site-packages (from nbconvert->jupyter<2.0.0,>=1.0.0->recmetrics) (3.1.2)\n",
      "Requirement already satisfied: defusedxml in c:\\users\\tinot\\anaconda3\\envs\\rs\\lib\\site-packages (from nbconvert->jupyter<2.0.0,>=1.0.0->recmetrics) (0.7.1)\n",
      "Requirement already satisfied: Send2Trash>=1.8.0 in c:\\users\\tinot\\anaconda3\\envs\\rs\\lib\\site-packages (from notebook->jupyter<2.0.0,>=1.0.0->recmetrics) (1.8.0)\n",
      "Requirement already satisfied: ipython-genutils in c:\\users\\tinot\\anaconda3\\envs\\rs\\lib\\site-packages (from notebook->jupyter<2.0.0,>=1.0.0->recmetrics) (0.2.0)\n",
      "Requirement already satisfied: prometheus-client in c:\\users\\tinot\\anaconda3\\envs\\rs\\lib\\site-packages (from notebook->jupyter<2.0.0,>=1.0.0->recmetrics) (0.16.0)\n",
      "Requirement already satisfied: nbclassic>=0.4.7 in c:\\users\\tinot\\anaconda3\\envs\\rs\\lib\\site-packages (from notebook->jupyter<2.0.0,>=1.0.0->recmetrics) (0.5.3)\n",
      "Requirement already satisfied: terminado>=0.8.3 in c:\\users\\tinot\\anaconda3\\envs\\rs\\lib\\site-packages (from notebook->jupyter<2.0.0,>=1.0.0->recmetrics) (0.17.1)\n",
      "Requirement already satisfied: argon2-cffi in c:\\users\\tinot\\anaconda3\\envs\\rs\\lib\\site-packages (from notebook->jupyter<2.0.0,>=1.0.0->recmetrics) (21.3.0)\n",
      "Requirement already satisfied: qtpy>=2.0.1 in c:\\users\\tinot\\anaconda3\\envs\\rs\\lib\\site-packages (from qtconsole->jupyter<2.0.0,>=1.0.0->recmetrics) (2.3.0)\n",
      "Requirement already satisfied: webencodings in c:\\users\\tinot\\anaconda3\\envs\\rs\\lib\\site-packages (from bleach>=2.1.0->readme-renderer>=35.0->twine<5.0.0,>=4.0.0->recmetrics) (0.5.1)\n",
      "Requirement already satisfied: platformdirs>=2.5 in c:\\users\\tinot\\anaconda3\\envs\\rs\\lib\\site-packages (from jupyter-core!=5.0.*,>=4.12->jupyter-console->jupyter<2.0.0,>=1.0.0->recmetrics) (3.0.0)\n",
      "Requirement already satisfied: pywin32>=1.0 in c:\\users\\tinot\\anaconda3\\envs\\rs\\lib\\site-packages (from jupyter-core!=5.0.*,>=4.12->jupyter-console->jupyter<2.0.0,>=1.0.0->recmetrics) (227)\n",
      "Requirement already satisfied: mdurl~=0.1 in c:\\users\\tinot\\anaconda3\\envs\\rs\\lib\\site-packages (from markdown-it-py<3.0.0,>=2.1.0->rich>=12.0.0->twine<5.0.0,>=4.0.0->recmetrics) (0.1.2)\n",
      "Requirement already satisfied: jupyter-server>=1.8 in c:\\users\\tinot\\anaconda3\\envs\\rs\\lib\\site-packages (from nbclassic>=0.4.7->notebook->jupyter<2.0.0,>=1.0.0->recmetrics) (2.5.0)\n",
      "Requirement already satisfied: notebook-shim>=0.1.0 in c:\\users\\tinot\\anaconda3\\envs\\rs\\lib\\site-packages (from nbclassic>=0.4.7->notebook->jupyter<2.0.0,>=1.0.0->recmetrics) (0.2.2)\n",
      "Requirement already satisfied: fastjsonschema in c:\\users\\tinot\\anaconda3\\envs\\rs\\lib\\site-packages (from nbformat>=5.1->nbconvert->jupyter<2.0.0,>=1.0.0->recmetrics) (2.16.3)\n",
      "Requirement already satisfied: jsonschema>=2.6 in c:\\users\\tinot\\anaconda3\\envs\\rs\\lib\\site-packages (from nbformat>=5.1->nbconvert->jupyter<2.0.0,>=1.0.0->recmetrics) (4.17.3)\n",
      "Requirement already satisfied: pywinpty>=1.1.0 in c:\\users\\tinot\\anaconda3\\envs\\rs\\lib\\site-packages (from terminado>=0.8.3->notebook->jupyter<2.0.0,>=1.0.0->recmetrics) (2.0.10)\n",
      "Requirement already satisfied: argon2-cffi-bindings in c:\\users\\tinot\\anaconda3\\envs\\rs\\lib\\site-packages (from argon2-cffi->notebook->jupyter<2.0.0,>=1.0.0->recmetrics) (21.2.0)\n",
      "Requirement already satisfied: soupsieve>1.2 in c:\\users\\tinot\\anaconda3\\envs\\rs\\lib\\site-packages (from beautifulsoup4->nbconvert->jupyter<2.0.0,>=1.0.0->recmetrics) (2.4)\n",
      "Requirement already satisfied: more-itertools in c:\\users\\tinot\\anaconda3\\envs\\rs\\lib\\site-packages (from jaraco.classes->keyring>=15.1->twine<5.0.0,>=4.0.0->recmetrics) (9.1.0)\n",
      "Requirement already satisfied: pyrsistent!=0.17.0,!=0.17.1,!=0.17.2,>=0.14.0 in c:\\users\\tinot\\anaconda3\\envs\\rs\\lib\\site-packages (from jsonschema>=2.6->nbformat>=5.1->nbconvert->jupyter<2.0.0,>=1.0.0->recmetrics) (0.19.3)\n",
      "Requirement already satisfied: pkgutil-resolve-name>=1.3.10 in c:\\users\\tinot\\anaconda3\\envs\\rs\\lib\\site-packages (from jsonschema>=2.6->nbformat>=5.1->nbconvert->jupyter<2.0.0,>=1.0.0->recmetrics) (1.3.10)\n",
      "Requirement already satisfied: anyio>=3.1.0 in c:\\users\\tinot\\anaconda3\\envs\\rs\\lib\\site-packages (from jupyter-server>=1.8->nbclassic>=0.4.7->notebook->jupyter<2.0.0,>=1.0.0->recmetrics) (3.6.2)\n",
      "Requirement already satisfied: jupyter-events>=0.4.0 in c:\\users\\tinot\\anaconda3\\envs\\rs\\lib\\site-packages (from jupyter-server>=1.8->nbclassic>=0.4.7->notebook->jupyter<2.0.0,>=1.0.0->recmetrics) (0.6.3)\n",
      "Requirement already satisfied: websocket-client in c:\\users\\tinot\\anaconda3\\envs\\rs\\lib\\site-packages (from jupyter-server>=1.8->nbclassic>=0.4.7->notebook->jupyter<2.0.0,>=1.0.0->recmetrics) (1.5.1)\n",
      "Requirement already satisfied: jupyter-server-terminals in c:\\users\\tinot\\anaconda3\\envs\\rs\\lib\\site-packages (from jupyter-server>=1.8->nbclassic>=0.4.7->notebook->jupyter<2.0.0,>=1.0.0->recmetrics) (0.4.4)\n",
      "Requirement already satisfied: cffi>=1.0.1 in c:\\users\\tinot\\anaconda3\\envs\\rs\\lib\\site-packages (from argon2-cffi-bindings->argon2-cffi->notebook->jupyter<2.0.0,>=1.0.0->recmetrics) (1.15.1)\n",
      "Requirement already satisfied: sniffio>=1.1 in c:\\users\\tinot\\anaconda3\\envs\\rs\\lib\\site-packages (from anyio>=3.1.0->jupyter-server>=1.8->nbclassic>=0.4.7->notebook->jupyter<2.0.0,>=1.0.0->recmetrics) (1.3.0)\n",
      "Requirement already satisfied: pycparser in c:\\users\\tinot\\anaconda3\\envs\\rs\\lib\\site-packages (from cffi>=1.0.1->argon2-cffi-bindings->argon2-cffi->notebook->jupyter<2.0.0,>=1.0.0->recmetrics) (2.21)\n",
      "Requirement already satisfied: rfc3986-validator>=0.1.1 in c:\\users\\tinot\\anaconda3\\envs\\rs\\lib\\site-packages (from jupyter-events>=0.4.0->jupyter-server>=1.8->nbclassic>=0.4.7->notebook->jupyter<2.0.0,>=1.0.0->recmetrics) (0.1.1)\n",
      "Requirement already satisfied: pyyaml>=5.3 in c:\\users\\tinot\\anaconda3\\envs\\rs\\lib\\site-packages (from jupyter-events>=0.4.0->jupyter-server>=1.8->nbclassic>=0.4.7->notebook->jupyter<2.0.0,>=1.0.0->recmetrics) (6.0)\n",
      "Requirement already satisfied: python-json-logger>=2.0.4 in c:\\users\\tinot\\anaconda3\\envs\\rs\\lib\\site-packages (from jupyter-events>=0.4.0->jupyter-server>=1.8->nbclassic>=0.4.7->notebook->jupyter<2.0.0,>=1.0.0->recmetrics) (2.0.7)\n",
      "Requirement already satisfied: rfc3339-validator in c:\\users\\tinot\\anaconda3\\envs\\rs\\lib\\site-packages (from jupyter-events>=0.4.0->jupyter-server>=1.8->nbclassic>=0.4.7->notebook->jupyter<2.0.0,>=1.0.0->recmetrics) (0.1.4)\n",
      "Requirement already satisfied: isoduration in c:\\users\\tinot\\anaconda3\\envs\\rs\\lib\\site-packages (from jsonschema>=2.6->nbformat>=5.1->nbconvert->jupyter<2.0.0,>=1.0.0->recmetrics) (20.11.0)\n",
      "Requirement already satisfied: fqdn in c:\\users\\tinot\\anaconda3\\envs\\rs\\lib\\site-packages (from jsonschema>=2.6->nbformat>=5.1->nbconvert->jupyter<2.0.0,>=1.0.0->recmetrics) (1.5.1)\n",
      "Requirement already satisfied: jsonpointer>1.13 in c:\\users\\tinot\\anaconda3\\envs\\rs\\lib\\site-packages (from jsonschema>=2.6->nbformat>=5.1->nbconvert->jupyter<2.0.0,>=1.0.0->recmetrics) (2.3)\n",
      "Requirement already satisfied: webcolors>=1.11 in c:\\users\\tinot\\anaconda3\\envs\\rs\\lib\\site-packages (from jsonschema>=2.6->nbformat>=5.1->nbconvert->jupyter<2.0.0,>=1.0.0->recmetrics) (1.13)\n",
      "Requirement already satisfied: uri-template in c:\\users\\tinot\\anaconda3\\envs\\rs\\lib\\site-packages (from jsonschema>=2.6->nbformat>=5.1->nbconvert->jupyter<2.0.0,>=1.0.0->recmetrics) (1.2.0)\n",
      "Requirement already satisfied: arrow>=0.15.0 in c:\\users\\tinot\\anaconda3\\envs\\rs\\lib\\site-packages (from isoduration->jsonschema>=2.6->nbformat>=5.1->nbconvert->jupyter<2.0.0,>=1.0.0->recmetrics) (1.2.3)\n",
      "Installing collected packages: plotly\n",
      "  Attempting uninstall: plotly\n",
      "    Found existing installation: plotly 5.14.0\n",
      "    Uninstalling plotly-5.14.0:\n",
      "      Successfully uninstalled plotly-5.14.0\n",
      "Successfully installed plotly-4.14.3\n",
      "Requirement already satisfied: csr_utils in c:\\users\\tinot\\anaconda3\\envs\\rs\\lib\\site-packages (0.1.3)\n",
      "Requirement already satisfied: scipy in c:\\users\\tinot\\anaconda3\\envs\\rs\\lib\\site-packages (from csr_utils) (1.10.1)\n",
      "Requirement already satisfied: numpy in c:\\users\\tinot\\anaconda3\\envs\\rs\\lib\\site-packages (from csr_utils) (1.24.2)\n",
      "Requirement already satisfied: sentence_transformers in c:\\users\\tinot\\anaconda3\\envs\\rs\\lib\\site-packages (2.2.2)\n",
      "Requirement already satisfied: numpy in c:\\users\\tinot\\anaconda3\\envs\\rs\\lib\\site-packages (from sentence_transformers) (1.24.2)\n",
      "Requirement already satisfied: scipy in c:\\users\\tinot\\anaconda3\\envs\\rs\\lib\\site-packages (from sentence_transformers) (1.10.1)\n",
      "Requirement already satisfied: huggingface-hub>=0.4.0 in c:\\users\\tinot\\anaconda3\\envs\\rs\\lib\\site-packages (from sentence_transformers) (0.13.3)\n",
      "Requirement already satisfied: torch>=1.6.0 in c:\\users\\tinot\\anaconda3\\envs\\rs\\lib\\site-packages (from sentence_transformers) (2.0.0)\n",
      "Requirement already satisfied: torchvision in c:\\users\\tinot\\anaconda3\\envs\\rs\\lib\\site-packages (from sentence_transformers) (0.15.1)\n",
      "Requirement already satisfied: scikit-learn in c:\\users\\tinot\\anaconda3\\envs\\rs\\lib\\site-packages (from sentence_transformers) (1.2.1)\n",
      "Requirement already satisfied: transformers<5.0.0,>=4.6.0 in c:\\users\\tinot\\anaconda3\\envs\\rs\\lib\\site-packages (from sentence_transformers) (4.27.4)\n",
      "Requirement already satisfied: sentencepiece in c:\\users\\tinot\\anaconda3\\envs\\rs\\lib\\site-packages (from sentence_transformers) (0.1.97)\n",
      "Requirement already satisfied: nltk in c:\\users\\tinot\\anaconda3\\envs\\rs\\lib\\site-packages (from sentence_transformers) (3.8.1)\n",
      "Requirement already satisfied: tqdm in c:\\users\\tinot\\anaconda3\\envs\\rs\\lib\\site-packages (from sentence_transformers) (4.64.1)\n",
      "Requirement already satisfied: requests in c:\\users\\tinot\\anaconda3\\envs\\rs\\lib\\site-packages (from huggingface-hub>=0.4.0->sentence_transformers) (2.28.2)\n",
      "Requirement already satisfied: pyyaml>=5.1 in c:\\users\\tinot\\anaconda3\\envs\\rs\\lib\\site-packages (from huggingface-hub>=0.4.0->sentence_transformers) (6.0)\n",
      "Requirement already satisfied: packaging>=20.9 in c:\\users\\tinot\\anaconda3\\envs\\rs\\lib\\site-packages (from huggingface-hub>=0.4.0->sentence_transformers) (23.0)\n",
      "Requirement already satisfied: filelock in c:\\users\\tinot\\anaconda3\\envs\\rs\\lib\\site-packages (from huggingface-hub>=0.4.0->sentence_transformers) (3.10.7)\n",
      "Requirement already satisfied: typing-extensions>=3.7.4.3 in c:\\users\\tinot\\anaconda3\\envs\\rs\\lib\\site-packages (from huggingface-hub>=0.4.0->sentence_transformers) (4.4.0)\n",
      "Requirement already satisfied: networkx in c:\\users\\tinot\\anaconda3\\envs\\rs\\lib\\site-packages (from torch>=1.6.0->sentence_transformers) (3.0)\n",
      "Requirement already satisfied: sympy in c:\\users\\tinot\\anaconda3\\envs\\rs\\lib\\site-packages (from torch>=1.6.0->sentence_transformers) (1.11.1)\n",
      "Requirement already satisfied: jinja2 in c:\\users\\tinot\\anaconda3\\envs\\rs\\lib\\site-packages (from torch>=1.6.0->sentence_transformers) (3.1.2)\n",
      "Requirement already satisfied: colorama in c:\\users\\tinot\\anaconda3\\envs\\rs\\lib\\site-packages (from tqdm->sentence_transformers) (0.4.6)\n",
      "Requirement already satisfied: regex!=2019.12.17 in c:\\users\\tinot\\anaconda3\\envs\\rs\\lib\\site-packages (from transformers<5.0.0,>=4.6.0->sentence_transformers) (2022.10.31)\n",
      "Requirement already satisfied: tokenizers!=0.11.3,<0.14,>=0.11.1 in c:\\users\\tinot\\anaconda3\\envs\\rs\\lib\\site-packages (from transformers<5.0.0,>=4.6.0->sentence_transformers) (0.13.2)\n",
      "Requirement already satisfied: joblib in c:\\users\\tinot\\anaconda3\\envs\\rs\\lib\\site-packages (from nltk->sentence_transformers) (1.2.0)\n",
      "Requirement already satisfied: click in c:\\users\\tinot\\anaconda3\\envs\\rs\\lib\\site-packages (from nltk->sentence_transformers) (8.1.3)\n",
      "Requirement already satisfied: threadpoolctl>=2.0.0 in c:\\users\\tinot\\anaconda3\\envs\\rs\\lib\\site-packages (from scikit-learn->sentence_transformers) (3.1.0)\n",
      "Requirement already satisfied: pillow!=8.3.*,>=5.3.0 in c:\\users\\tinot\\anaconda3\\envs\\rs\\lib\\site-packages (from torchvision->sentence_transformers) (9.4.0)\n",
      "Requirement already satisfied: MarkupSafe>=2.0 in c:\\users\\tinot\\anaconda3\\envs\\rs\\lib\\site-packages (from jinja2->torch>=1.6.0->sentence_transformers) (2.1.2)\n",
      "Requirement already satisfied: certifi>=2017.4.17 in c:\\users\\tinot\\anaconda3\\envs\\rs\\lib\\site-packages (from requests->huggingface-hub>=0.4.0->sentence_transformers) (2022.12.7)\n",
      "Requirement already satisfied: idna<4,>=2.5 in c:\\users\\tinot\\anaconda3\\envs\\rs\\lib\\site-packages (from requests->huggingface-hub>=0.4.0->sentence_transformers) (3.4)\n",
      "Requirement already satisfied: charset-normalizer<4,>=2 in c:\\users\\tinot\\anaconda3\\envs\\rs\\lib\\site-packages (from requests->huggingface-hub>=0.4.0->sentence_transformers) (3.0.1)\n",
      "Requirement already satisfied: urllib3<1.27,>=1.21.1 in c:\\users\\tinot\\anaconda3\\envs\\rs\\lib\\site-packages (from requests->huggingface-hub>=0.4.0->sentence_transformers) (1.26.14)\n",
      "Requirement already satisfied: mpmath>=0.19 in c:\\users\\tinot\\anaconda3\\envs\\rs\\lib\\site-packages (from sympy->torch>=1.6.0->sentence_transformers) (1.3.0)\n"
     ]
    }
   ],
   "source": [
    "!pip install kneed\n",
    "!pip install recmetrics\n",
    "!pip install csr_utils\n",
    "!pip install sentence_transformers\n",
    "import matplotlib.pyplot as plt\n",
    "import numpy as np\n",
    "from sentence_transformers import SentenceTransformer\n",
    "import pandas as pd\n",
    "import seaborn as sns\n",
    "from sklearn.feature_extraction.text import CountVectorizer\n",
    "from sklearn.cluster import KMeans\n",
    "from sklearn.metrics.pairwise import cosine_similarity\n",
    "from sklearn.decomposition import PCA\n",
    "\n",
    "import warnings\n",
    "import pandas as pd\n",
    "pd.set_option('mode.chained_assignment', None)\n",
    "import numpy as np\n",
    "import matplotlib.pyplot as plt\n",
    "import seaborn as sns\n",
    "import pickle\n",
    "from os import listdir\n",
    "from os.path import isfile, join\n",
    "import re\n",
    "import datetime as dt\n",
    "from itertools import chain\n",
    "import random\n",
    "from tqdm import tqdm \n",
    "import matplotlib.pyplot as plt\n",
    "import seaborn as sns\n",
    "#for collaborative filtering\n",
    "from sklearn.metrics import pairwise_distances\n",
    "from sklearn.neighbors import NearestNeighbors\n",
    "from kneed import KneeLocator\n",
    "import recmetrics\n",
    "\n",
    "# # Colab\n",
    "# from google.colab import drive\n",
    "# drive.mount('/content/gdrive')\n",
    "\n",
    "#mypath = '/content/gdrive/MyDrive/public_media_assignment2/data/PBS/'# This is the directory for Tino change make a new line of code to make it work for your own device\n",
    "#mypath = '/content/gdrive/MyDrive/public_media_assignment2-20230324T124853Z-001/public_media_assignment2/data/PBS/'# thanos\n",
    "#mypath = '/content/gdrive/MyDrive/Colab Notebooks/public_media_assignment2/data/PBS/'\n",
    "\n",
    "mypath = 'PBS/' # local\n",
    "onlyfiles = [f for f in listdir(mypath) if isfile(join(mypath, f))]\n",
    "onlyfiles = np.sort(onlyfiles)"
   ]
  },
  {
   "cell_type": "markdown",
   "metadata": {
    "id": "4jYE2-6QCe97"
   },
   "source": [
    "## Extracting Data and Preprocessing"
   ]
  },
  {
   "cell_type": "code",
   "execution_count": 2,
   "metadata": {
    "colab": {
     "base_uri": "https://localhost:8080/"
    },
    "executionInfo": {
     "elapsed": 12920,
     "status": "ok",
     "timestamp": 1679937148543,
     "user": {
      "displayName": "Αθανάσιος Σουλιώτης",
      "userId": "16355387212771253692"
     },
     "user_tz": -120
    },
    "id": "5tpUN7cZ9AFw",
    "outputId": "8211ef9b-a6fe-4e20-cfc4-a409be22d482"
   },
   "outputs": [
    {
     "name": "stdout",
     "output_type": "stream",
     "text": [
      "arts-and-music: 586 shows not found\n",
      "culture: 725 shows not found\n",
      "drama: 101 shows not found\n",
      "food: 181 shows not found\n",
      "history: 630 shows not found\n",
      "home-howto: 109 shows not found\n",
      "indie: 87 shows not found\n",
      "news: 826 shows not found\n",
      "science: 376 shows not found\n"
     ]
    }
   ],
   "source": [
    "objects = []\n",
    "dfs = []\n",
    "for i in onlyfiles:\n",
    "  with (open(mypath + i, \"rb\")) as openfile:\n",
    "      while True:\n",
    "          try:\n",
    "              dfs.append(pickle.load(openfile))\n",
    "          except EOFError:\n",
    "              break\n",
    "i=0\n",
    "for df in dfs:\n",
    "    timestamps = []\n",
    "    # Extract meta data\n",
    "    df['season'] = df['meta'].apply(lambda x: np.nan if(re.search(r'(?<=Season\\s)(\\w+)', x))==None else re.search(r'(?<=Season\\s)(\\w+)', x)[0]) # What is the season number\n",
    "    df['episode'] = df['meta'].apply(lambda x: np.nan if(re.search(r'(?<=Episode\\s)(\\w+)', x))==None else re.search(r'(?<=Episode\\s)(\\w+)', x)[0]) # What is the episode number\n",
    "    df['special'] = df['meta'].apply(lambda x: 0 if(re.search(r'Special', x))==None else 1) # If the show/episode is a sepcial or not\n",
    "    df['clip'] = df['meta'].apply(lambda x: 0 if(re.search(r'Clip', x))==None else 1) # If the show/episode is a clip or not\n",
    "    df['aired'] = df['meta2'].apply(lambda x: np.nan if(re.search(r'[0-9]{2}\\/[0-9]{2}\\/[0-9]{2}', x))==None else re.search(r'[0-9]{2}\\/[0-9]{2}\\/[0-9]{2}', x)[0]) # Match any date format\n",
    "    df['rating'] = df['meta2'].apply(lambda x: np.nan if(re.search(r'(?<=Rating: ).*$', x))==None else re.search(r'(?<=Rating: ).*$', x)[0]) # Everything after Rating: \n",
    "\n",
    "    # Adding the durations of the shows and episodes to the dataframe\n",
    "    duration = df['meta'].apply(lambda x: np.nan if(re.search(r'[^|]*$', x))==None else re.search(r'[^|]*$', x)[0]) # Select everything after the symbol |\n",
    "    h = duration.apply(lambda x: np.nan if(re.search(r'(\\d+)h', x))==None else re.search(r'(\\d+)h', x)[0].strip('h')) # Select everything before the chracter s\n",
    "    m = duration.apply(lambda x: np.nan if(re.search(r'(\\d+)m', x))==None else re.search(r'(\\d+)m', x)[0].strip('m')) # Select everything before the chracter m\n",
    "    s = duration.apply(lambda x: np.nan if(re.search(r'(\\d+)s', x))==None else re.search(r'(\\d+)s', x)[0].strip('s')) # Select everything before the chracter s\n",
    "    h = h.fillna(0).astype(int)\n",
    "    m = m.fillna(0).astype(int)\n",
    "    s = s.fillna(0).astype(int)\n",
    "    time_array = np.array(pd.DataFrame({'h':h, 'm':m, 's':s}).values.flatten()).reshape(-1,3)\n",
    "    for time in time_array:\n",
    "        if time[0] >23: # check if input of hours is correct\n",
    "            if time[1]==0: # there was some incorrect input for ours so they are probably mistaken for minutes this is changed here\n",
    "                time[1]=time[0]\n",
    "                time[0]=0\n",
    "        timestamps.append(dt.time(time[0], time[1], time[2]))\n",
    "    df['duration'] = timestamps\n",
    "\n",
    "    # replace non data with nan values\n",
    "    df.replace('No meta data found', np.nan, inplace=True)\n",
    "    df.replace('Clip', np.nan, inplace=True)\n",
    "    df.replace('Special', np.nan, inplace=True)\n",
    "    df.replace('Episode', np.nan, inplace=True)\n",
    "    df.replace('Season', np.nan, inplace=True)\n",
    "    df.replace('No show found', np.nan, inplace=True)\n",
    "\n",
    "    # remove shows that have no information about them first indicator is that there is now show name in the show column so these nan values are removed\n",
    "    print(onlyfiles[i].strip('.pkl') + ':', df.show.isna().sum(), 'shows not found')\n",
    "    df = df.loc[~(df.show.isna())]\n",
    "    # change aired and duration into datetime\n",
    "    df['aired'] = pd.to_datetime(df['aired'])\n",
    "\n",
    "    # Only keep shows/episodes that are not clips\n",
    "\n",
    "    # remove columns without usefull information\n",
    "    df.drop(columns=['description2', 'meta', 'meta2'], inplace=True)\n",
    "    objects.append(df)\n",
    "    i=i+1\n",
    "\n",
    "# Keep the most recently aired episodes of unique shows\n",
    "df_arts_music = objects[0].sort_values(['show', 'aired'], ascending=False).drop_duplicates(['show'])\n",
    "df_culture = objects[1].sort_values(['show', 'aired'], ascending=False).drop_duplicates(['show'])\n",
    "df_drama = objects[2].sort_values(['show', 'aired'], ascending=False).drop_duplicates(['show'])\n",
    "df_food = objects[3].sort_values(['show', 'aired'], ascending=False).drop_duplicates(['show'])\n",
    "df_history = objects[4].sort_values(['show', 'aired'], ascending=False).drop_duplicates(['show'])\n",
    "df_howto = objects[5].sort_values(['show', 'aired'], ascending=False).drop_duplicates(['show'])\n",
    "df_indie = objects[6].sort_values(['show', 'aired'], ascending=False).drop_duplicates(['show'])\n",
    "df_news = objects[7].sort_values(['show', 'aired'], ascending=False).drop_duplicates(['show'])\n",
    "df_science = objects[8].sort_values(['show', 'aired'], ascending=False).drop_duplicates(['show'])\n",
    "\n",
    "# # 2 shows with the same name but they are different so the name is changed for arts and music (NPT is local broadcaster)\n",
    "df_arts_music.show = df_arts_music.show.replace('Shakespeare Uncovered', 'Shakespeare Uncovered NPT') \n",
    "df_history.show = df_history.show.replace(\"The People's Protectors\", \"The People's Protectors TPT\") \n",
    "df_history.show = df_history.show.replace(\"Veterans Coming Home\", \"Veterans Coming Home History\")\n",
    "df_culture.show = df_culture.show.replace(\"Veterans Coming Home\", \"Veterans Coming Home Culture\")\n",
    "df_history.show = df_history.show.replace(\"Our Town\", \"Our Town History\")\n",
    "df_howto.show = df_howto.show.replace(\"Made Here\", \"Made Here SCETV\")\n",
    "df_news.show = df_news.show.replace(\"Connecting Point\", \"Connecting Point NEPM\")\n",
    "df_news.show = df_news.show.replace('Local Focus', 'Local Focus News')\n",
    "df_news.show = df_news.show.replace('Dialogue', 'Dialogue News')\n",
    "df_news.show = df_news.show.replace('SnapShot', 'SnapShot KLCS')\n",
    "df_news.show = df_news.show.replace('State of Change', 'State of Change News')\n",
    "df_culture.show = df_culture.show.replace('Chasing the Dream', 'Chasing the Dream WSKG')\n",
    "df_culture.show = df_culture.show.replace('Connect', 'Connect Culture')\n",
    "\n",
    "# Removing all the shows with unloadable images\n",
    "# This was an issue with displaying the interface since the whole code wouldn't run anymore\n",
    "missing_img = 'None?focalcrop=1200x630x50x10&format=auto'\n",
    "df_arts_music = df_arts_music.loc[~(df_arts_music.image == missing_img)]\n",
    "df_culture = df_culture.loc[~(df_culture.image == missing_img)]\n",
    "df_drama = df_drama.loc[~(df_drama.image == missing_img)]\n",
    "df_food = df_food.loc[~(df_food.image == missing_img)]\n",
    "df_history = df_history.loc[~(df_history.image == missing_img)]\n",
    "df_howto = df_howto.loc[~(df_howto.image == missing_img)]\n",
    "df_indie = df_indie.loc[~(df_indie.image == missing_img)]\n",
    "df_news = df_news.loc[~(df_news.image == missing_img)]\n",
    "df_science = df_science.loc[~(df_science.image == missing_img)]"
   ]
  },
  {
   "cell_type": "code",
   "execution_count": 3,
   "metadata": {
    "colab": {
     "base_uri": "https://localhost:8080/",
     "height": 206
    },
    "executionInfo": {
     "elapsed": 14,
     "status": "ok",
     "timestamp": 1679923461400,
     "user": {
      "displayName": "Tino Ouwerkerk",
      "userId": "01616325782816095016"
     },
     "user_tz": -120
    },
    "id": "n5vrEAXBBAEy",
    "outputId": "f5bbe85e-9df2-4bb5-93ba-99c44e9cb052"
   },
   "outputs": [
    {
     "data": {
      "text/html": [
       "<div>\n",
       "<style scoped>\n",
       "    .dataframe tbody tr th:only-of-type {\n",
       "        vertical-align: middle;\n",
       "    }\n",
       "\n",
       "    .dataframe tbody tr th {\n",
       "        vertical-align: top;\n",
       "    }\n",
       "\n",
       "    .dataframe thead th {\n",
       "        text-align: right;\n",
       "    }\n",
       "</style>\n",
       "<table border=\"1\" class=\"dataframe\">\n",
       "  <thead>\n",
       "    <tr style=\"text-align: right;\">\n",
       "      <th></th>\n",
       "      <th>category</th>\n",
       "      <th>type</th>\n",
       "      <th>show</th>\n",
       "      <th>title</th>\n",
       "      <th>description</th>\n",
       "      <th>image</th>\n",
       "      <th>season</th>\n",
       "      <th>episode</th>\n",
       "      <th>special</th>\n",
       "      <th>clip</th>\n",
       "      <th>aired</th>\n",
       "      <th>rating</th>\n",
       "      <th>duration</th>\n",
       "    </tr>\n",
       "  </thead>\n",
       "  <tbody>\n",
       "    <tr>\n",
       "      <th>2136</th>\n",
       "      <td>Food</td>\n",
       "      <td>episode</td>\n",
       "      <td>tasteMAKERS</td>\n",
       "      <td>Jacobsen Salt Co.</td>\n",
       "      <td>In Portland, Oregon, Jacobsen Salt Co. harvest...</td>\n",
       "      <td>https://image.pbs.org/video-assets/OfFlP38-ass...</td>\n",
       "      <td>2</td>\n",
       "      <td>13</td>\n",
       "      <td>0</td>\n",
       "      <td>0</td>\n",
       "      <td>2020-04-11</td>\n",
       "      <td>NR</td>\n",
       "      <td>00:26:46</td>\n",
       "    </tr>\n",
       "    <tr>\n",
       "      <th>704</th>\n",
       "      <td>Food</td>\n",
       "      <td>episode</td>\n",
       "      <td>Yan Can Cook: Spice Kingdom</td>\n",
       "      <td>Panda-Monium</td>\n",
       "      <td>In Chengdu, Martin feeds pandas, harvests bamb...</td>\n",
       "      <td>https://image.pbs.org/video-assets/yrqxkUk-ass...</td>\n",
       "      <td>NaN</td>\n",
       "      <td>101</td>\n",
       "      <td>0</td>\n",
       "      <td>0</td>\n",
       "      <td>2021-11-03</td>\n",
       "      <td>TV-G</td>\n",
       "      <td>00:26:46</td>\n",
       "    </tr>\n",
       "    <tr>\n",
       "      <th>1130</th>\n",
       "      <td>Food</td>\n",
       "      <td>episode</td>\n",
       "      <td>Wisconsin Foodie</td>\n",
       "      <td>Oneida White Corn</td>\n",
       "      <td>Learn how to prepare White Corn soup and the i...</td>\n",
       "      <td>https://image.pbs.org/video-assets/uHUXXTC-ass...</td>\n",
       "      <td>12</td>\n",
       "      <td>8</td>\n",
       "      <td>0</td>\n",
       "      <td>0</td>\n",
       "      <td>2022-03-24</td>\n",
       "      <td>NR</td>\n",
       "      <td>00:26:47</td>\n",
       "    </tr>\n",
       "    <tr>\n",
       "      <th>603</th>\n",
       "      <td>Food</td>\n",
       "      <td>episode</td>\n",
       "      <td>Wine First</td>\n",
       "      <td>Styria &amp; Burgenland</td>\n",
       "      <td>While exploring Austria, our hosts participate...</td>\n",
       "      <td>https://image.pbs.org/video-assets/0rHRK58-ass...</td>\n",
       "      <td>NaN</td>\n",
       "      <td>103</td>\n",
       "      <td>0</td>\n",
       "      <td>0</td>\n",
       "      <td>2021-10-05</td>\n",
       "      <td>TV-PG</td>\n",
       "      <td>00:27:28</td>\n",
       "    </tr>\n",
       "    <tr>\n",
       "      <th>870</th>\n",
       "      <td>Food</td>\n",
       "      <td>episode</td>\n",
       "      <td>Valleys Gold</td>\n",
       "      <td>Dates</td>\n",
       "      <td>Learn about the economic engine that drives th...</td>\n",
       "      <td>https://image.pbs.org/video-assets/x3BLAsZ-ass...</td>\n",
       "      <td>5</td>\n",
       "      <td>12</td>\n",
       "      <td>0</td>\n",
       "      <td>0</td>\n",
       "      <td>2018-12-10</td>\n",
       "      <td>TV-G</td>\n",
       "      <td>00:26:47</td>\n",
       "    </tr>\n",
       "  </tbody>\n",
       "</table>\n",
       "</div>"
      ],
      "text/plain": [
       "     category     type                         show                title  \\\n",
       "2136     Food  episode                  tasteMAKERS    Jacobsen Salt Co.   \n",
       "704      Food  episode  Yan Can Cook: Spice Kingdom         Panda-Monium   \n",
       "1130     Food  episode             Wisconsin Foodie    Oneida White Corn   \n",
       "603      Food  episode                   Wine First  Styria & Burgenland   \n",
       "870      Food  episode                Valleys Gold                Dates   \n",
       "\n",
       "                                            description  \\\n",
       "2136  In Portland, Oregon, Jacobsen Salt Co. harvest...   \n",
       "704   In Chengdu, Martin feeds pandas, harvests bamb...   \n",
       "1130  Learn how to prepare White Corn soup and the i...   \n",
       "603   While exploring Austria, our hosts participate...   \n",
       "870   Learn about the economic engine that drives th...   \n",
       "\n",
       "                                                  image season episode  \\\n",
       "2136  https://image.pbs.org/video-assets/OfFlP38-ass...      2      13   \n",
       "704   https://image.pbs.org/video-assets/yrqxkUk-ass...    NaN     101   \n",
       "1130  https://image.pbs.org/video-assets/uHUXXTC-ass...     12       8   \n",
       "603   https://image.pbs.org/video-assets/0rHRK58-ass...    NaN     103   \n",
       "870   https://image.pbs.org/video-assets/x3BLAsZ-ass...      5      12   \n",
       "\n",
       "      special  clip      aired  rating  duration  \n",
       "2136        0     0 2020-04-11     NR   00:26:46  \n",
       "704         0     0 2021-11-03   TV-G   00:26:46  \n",
       "1130        0     0 2022-03-24     NR   00:26:47  \n",
       "603         0     0 2021-10-05  TV-PG   00:27:28  \n",
       "870         0     0 2018-12-10   TV-G   00:26:47  "
      ]
     },
     "execution_count": 3,
     "metadata": {},
     "output_type": "execute_result"
    }
   ],
   "source": [
    "df_food.head()"
   ]
  },
  {
   "cell_type": "markdown",
   "metadata": {
    "id": "gxnPfSZRCe9-"
   },
   "source": [
    "## Creating Personas\n",
    "\n",
    "- Young\n",
    "    - NO news / food shows / DIY\n",
    "    - It feels like they are more into entertainment. \n",
    "    - They don’t care about what is going on, probably watch the channel more to disconnect.\n",
    "    - They watch science programs, art/music, drama, history…\n",
    "- Family people\n",
    "    - Adults with kids, in their 35-50s.\n",
    "    - They usually watch the news and a lot of kids' shows (because of their kids).\n",
    "    - They don’t have that much time to watch more entertainment shows. \n",
    "- “Older” people\n",
    "    - They are mostly retired.\n",
    "    - They have time to watch more stuff, and more diverse: drama, art/music, DIY, food…\n",
    "    - Not that much of the news. \n",
    "- Lifetime fans\n",
    "    - They are always on PBS.\n",
    "    - Generally people in their 50s or around.\n",
    "    - Conservative.\n",
    "    - They don’t watch indie films or the news that much. \n"
   ]
  },
  {
   "cell_type": "code",
   "execution_count": 4,
   "metadata": {
    "id": "ieTdEmDcwI6U"
   },
   "outputs": [],
   "source": [
    "# give weights according to what shows the persona likes watching (weight for zero, weight for 1)\n",
    "# order of genre is df_arts_music, df_culture, df_drama, df_food, df_history, df_howto, df_indie, df_news, df_science\n",
    "# Weight:0, Weight:1 (not_watched/watched)\n",
    "young_persona = [\n",
    "    (70,30), # art and music\n",
    "    (90,10), # culture\n",
    "    (60,40), # drama\n",
    "    (99,1), # food\n",
    "    (95,5), # history\n",
    "    (98,2), # how to\n",
    "    (60,40), # indie\n",
    "    (95,5), # news\n",
    "    (90,10) # science\n",
    "    ]\n",
    "\n",
    "family_persona = [\n",
    "    (90,10), # art and music\n",
    "    (90,10), # culture\n",
    "    (90,10), # drama\n",
    "    (80,20), # food\n",
    "    (85,15), # history\n",
    "    (80,20), # how to\n",
    "    (95,5), # indie\n",
    "    (70,30), # news\n",
    "    (85,15) # science\n",
    "    ]\n",
    "\n",
    "old_persona = [\n",
    "    (70,30), # art and music\n",
    "    (90,10), # culture\n",
    "    (90,10), # drama\n",
    "    (80,20), # food\n",
    "    (70,30), # history\n",
    "    (80,20), # how to\n",
    "    (95,5), # indie\n",
    "    (85,15), # news\n",
    "    (80,20) # science\n",
    "    ]\n",
    "\n",
    "fan_persona = [\n",
    "    (70,30), # art and music\n",
    "    (85,15), # culture\n",
    "    (60,40), # drama\n",
    "    (75,25), # food\n",
    "    (80,20), # history\n",
    "    (80,20), # how to\n",
    "    (95,5), # indie\n",
    "    (95,5), # news\n",
    "    (70,30) # science\n",
    "    ]"
   ]
  },
  {
   "cell_type": "markdown",
   "metadata": {
    "id": "AHBIJISnCe9-"
   },
   "source": [
    "## Creating Users\n",
    "\n",
    "We start by adding ones and zeroes to shows and episodes to indicate if the user watched that show or not. We hold the different personas into account and will keep the genre of the shows in mind when declaring if someone watched a show or not. Also it's important to know that there are shows and episodes. Shows are a 1 time thing and episodes have multiple episodes under the same show name. We can either:\n",
    "\n",
    "- See every episode as its own show depending on the title\n",
    "- combine all the episodes and see it as one show\n",
    "\n",
    "To make it easier we start by combining all the episodes into one show and if the user has watched 1 episode it can be added to 'continue watching' and won't be considered for recommendation"
   ]
  },
  {
   "cell_type": "code",
   "execution_count": 5,
   "metadata": {
    "id": "S8HW8T2kCe9_"
   },
   "outputs": [],
   "source": [
    "def create_users(dfs, persona, n_users, seed, name): # all dataframes, weights of persona and amount of desired users\n",
    "    df_users = []\n",
    "    random.seed(seed)\n",
    "    for i in range(len(persona)): # Loop through the different genres of the df and weights\n",
    "        df = pd.DataFrame(columns=dfs[i].show.unique()) # ceate an empty dataframe where the columns represent all the unqiue shows in the current genre\n",
    "        for n in range(n_users): # For every genre make n_users with according weights\n",
    "            watched = random.choices([0, 1], weights=persona[i], k=len(df.columns))\n",
    "            df.loc[name + '_user'+str(n)] = watched\n",
    "        df_users.append(df) # add the genre of the n_users to a list of dataframes\n",
    "\n",
    "    df_users = pd.concat(df_users, axis=1, ignore_index=False) # combine all the genres together to create one dataframe for the persona with every possible show\n",
    "    return df_users"
   ]
  },
  {
   "cell_type": "code",
   "execution_count": 6,
   "metadata": {
    "colab": {
     "base_uri": "https://localhost:8080/",
     "height": 438
    },
    "executionInfo": {
     "elapsed": 2264,
     "status": "ok",
     "timestamp": 1679924884697,
     "user": {
      "displayName": "Αθανάσιος Σουλιώτης",
      "userId": "16355387212771253692"
     },
     "user_tz": -120
    },
    "id": "2I_Wt_oYCe9_",
    "outputId": "42fb410f-3116-4764-876d-3083a414fa84"
   },
   "outputs": [
    {
     "data": {
      "text/html": [
       "<div>\n",
       "<style scoped>\n",
       "    .dataframe tbody tr th:only-of-type {\n",
       "        vertical-align: middle;\n",
       "    }\n",
       "\n",
       "    .dataframe tbody tr th {\n",
       "        vertical-align: top;\n",
       "    }\n",
       "\n",
       "    .dataframe thead th {\n",
       "        text-align: right;\n",
       "    }\n",
       "</style>\n",
       "<table border=\"1\" class=\"dataframe\">\n",
       "  <thead>\n",
       "    <tr style=\"text-align: right;\">\n",
       "      <th></th>\n",
       "      <th>arts IN focus</th>\n",
       "      <th>arts Bridge</th>\n",
       "      <th>Zoltan Maga: Live from Budapest with David Foster</th>\n",
       "      <th>Yoshiki: Live at Carnegie Hall</th>\n",
       "      <th>Yes to Running: Bill Harley Live</th>\n",
       "      <th>Wynonna Judd: Concert from My Place</th>\n",
       "      <th>Writing in Peace and War</th>\n",
       "      <th>Worth Waiting For : Journey of a Musical</th>\n",
       "      <th>Work In Progress</th>\n",
       "      <th>Within/Earshot Jazz Festival</th>\n",
       "      <th>...</th>\n",
       "      <th>Alabama Scholars Bowl</th>\n",
       "      <th>Alabama STEM Explorers</th>\n",
       "      <th>After the Ice</th>\n",
       "      <th>Adaptation</th>\n",
       "      <th>A Year in Space</th>\n",
       "      <th>A Walk in the Park with Nick Mollé: Nature of the Beasts</th>\n",
       "      <th>A Story of Patients</th>\n",
       "      <th>A Force For Nature: Lucy Braun</th>\n",
       "      <th>A Dog's Service</th>\n",
       "      <th>35 Million Years Down the Chickasawhay</th>\n",
       "    </tr>\n",
       "  </thead>\n",
       "  <tbody>\n",
       "    <tr>\n",
       "      <th>young_user0</th>\n",
       "      <td>0</td>\n",
       "      <td>0</td>\n",
       "      <td>0</td>\n",
       "      <td>0</td>\n",
       "      <td>1</td>\n",
       "      <td>0</td>\n",
       "      <td>1</td>\n",
       "      <td>0</td>\n",
       "      <td>0</td>\n",
       "      <td>0</td>\n",
       "      <td>...</td>\n",
       "      <td>0</td>\n",
       "      <td>0</td>\n",
       "      <td>0</td>\n",
       "      <td>0</td>\n",
       "      <td>0</td>\n",
       "      <td>0</td>\n",
       "      <td>0</td>\n",
       "      <td>0</td>\n",
       "      <td>0</td>\n",
       "      <td>1</td>\n",
       "    </tr>\n",
       "    <tr>\n",
       "      <th>young_user1</th>\n",
       "      <td>0</td>\n",
       "      <td>0</td>\n",
       "      <td>1</td>\n",
       "      <td>1</td>\n",
       "      <td>0</td>\n",
       "      <td>1</td>\n",
       "      <td>0</td>\n",
       "      <td>1</td>\n",
       "      <td>1</td>\n",
       "      <td>0</td>\n",
       "      <td>...</td>\n",
       "      <td>0</td>\n",
       "      <td>1</td>\n",
       "      <td>1</td>\n",
       "      <td>0</td>\n",
       "      <td>0</td>\n",
       "      <td>0</td>\n",
       "      <td>0</td>\n",
       "      <td>0</td>\n",
       "      <td>0</td>\n",
       "      <td>0</td>\n",
       "    </tr>\n",
       "    <tr>\n",
       "      <th>young_user2</th>\n",
       "      <td>0</td>\n",
       "      <td>0</td>\n",
       "      <td>1</td>\n",
       "      <td>1</td>\n",
       "      <td>0</td>\n",
       "      <td>0</td>\n",
       "      <td>1</td>\n",
       "      <td>0</td>\n",
       "      <td>0</td>\n",
       "      <td>0</td>\n",
       "      <td>...</td>\n",
       "      <td>0</td>\n",
       "      <td>1</td>\n",
       "      <td>0</td>\n",
       "      <td>0</td>\n",
       "      <td>0</td>\n",
       "      <td>0</td>\n",
       "      <td>0</td>\n",
       "      <td>0</td>\n",
       "      <td>0</td>\n",
       "      <td>0</td>\n",
       "    </tr>\n",
       "    <tr>\n",
       "      <th>young_user3</th>\n",
       "      <td>1</td>\n",
       "      <td>0</td>\n",
       "      <td>1</td>\n",
       "      <td>0</td>\n",
       "      <td>1</td>\n",
       "      <td>1</td>\n",
       "      <td>0</td>\n",
       "      <td>0</td>\n",
       "      <td>0</td>\n",
       "      <td>0</td>\n",
       "      <td>...</td>\n",
       "      <td>1</td>\n",
       "      <td>0</td>\n",
       "      <td>0</td>\n",
       "      <td>1</td>\n",
       "      <td>0</td>\n",
       "      <td>1</td>\n",
       "      <td>0</td>\n",
       "      <td>0</td>\n",
       "      <td>0</td>\n",
       "      <td>0</td>\n",
       "    </tr>\n",
       "    <tr>\n",
       "      <th>young_user4</th>\n",
       "      <td>0</td>\n",
       "      <td>0</td>\n",
       "      <td>0</td>\n",
       "      <td>0</td>\n",
       "      <td>0</td>\n",
       "      <td>0</td>\n",
       "      <td>0</td>\n",
       "      <td>0</td>\n",
       "      <td>0</td>\n",
       "      <td>0</td>\n",
       "      <td>...</td>\n",
       "      <td>0</td>\n",
       "      <td>0</td>\n",
       "      <td>0</td>\n",
       "      <td>0</td>\n",
       "      <td>0</td>\n",
       "      <td>0</td>\n",
       "      <td>0</td>\n",
       "      <td>0</td>\n",
       "      <td>0</td>\n",
       "      <td>1</td>\n",
       "    </tr>\n",
       "  </tbody>\n",
       "</table>\n",
       "<p>5 rows × 3365 columns</p>\n",
       "</div>"
      ],
      "text/plain": [
       "             arts IN focus  arts Bridge  \\\n",
       "young_user0              0            0   \n",
       "young_user1              0            0   \n",
       "young_user2              0            0   \n",
       "young_user3              1            0   \n",
       "young_user4              0            0   \n",
       "\n",
       "             Zoltan Maga: Live from Budapest with David Foster  \\\n",
       "young_user0                                                  0   \n",
       "young_user1                                                  1   \n",
       "young_user2                                                  1   \n",
       "young_user3                                                  1   \n",
       "young_user4                                                  0   \n",
       "\n",
       "             Yoshiki: Live at Carnegie Hall  Yes to Running: Bill Harley Live  \\\n",
       "young_user0                               0                                 1   \n",
       "young_user1                               1                                 0   \n",
       "young_user2                               1                                 0   \n",
       "young_user3                               0                                 1   \n",
       "young_user4                               0                                 0   \n",
       "\n",
       "             Wynonna Judd: Concert from My Place  Writing in Peace and War  \\\n",
       "young_user0                                    0                         1   \n",
       "young_user1                                    1                         0   \n",
       "young_user2                                    0                         1   \n",
       "young_user3                                    1                         0   \n",
       "young_user4                                    0                         0   \n",
       "\n",
       "             Worth Waiting For : Journey of a Musical  Work In Progress  \\\n",
       "young_user0                                         0                 0   \n",
       "young_user1                                         1                 1   \n",
       "young_user2                                         0                 0   \n",
       "young_user3                                         0                 0   \n",
       "young_user4                                         0                 0   \n",
       "\n",
       "             Within/Earshot Jazz Festival  ...  Alabama Scholars Bowl  \\\n",
       "young_user0                             0  ...                      0   \n",
       "young_user1                             0  ...                      0   \n",
       "young_user2                             0  ...                      0   \n",
       "young_user3                             0  ...                      1   \n",
       "young_user4                             0  ...                      0   \n",
       "\n",
       "             Alabama STEM Explorers  After the Ice  Adaptation  \\\n",
       "young_user0                       0              0           0   \n",
       "young_user1                       1              1           0   \n",
       "young_user2                       1              0           0   \n",
       "young_user3                       0              0           1   \n",
       "young_user4                       0              0           0   \n",
       "\n",
       "             A Year in Space  \\\n",
       "young_user0                0   \n",
       "young_user1                0   \n",
       "young_user2                0   \n",
       "young_user3                0   \n",
       "young_user4                0   \n",
       "\n",
       "             A Walk in the Park with Nick Mollé: Nature of the Beasts  \\\n",
       "young_user0                                                  0          \n",
       "young_user1                                                  0          \n",
       "young_user2                                                  0          \n",
       "young_user3                                                  1          \n",
       "young_user4                                                  0          \n",
       "\n",
       "             A Story of Patients  A Force For Nature: Lucy Braun  \\\n",
       "young_user0                    0                               0   \n",
       "young_user1                    0                               0   \n",
       "young_user2                    0                               0   \n",
       "young_user3                    0                               0   \n",
       "young_user4                    0                               0   \n",
       "\n",
       "             A Dog's Service  35 Million Years Down the Chickasawhay  \n",
       "young_user0                0                                       1  \n",
       "young_user1                0                                       0  \n",
       "young_user2                0                                       0  \n",
       "young_user3                0                                       0  \n",
       "young_user4                0                                       1  \n",
       "\n",
       "[5 rows x 3365 columns]"
      ]
     },
     "execution_count": 6,
     "metadata": {},
     "output_type": "execute_result"
    }
   ],
   "source": [
    "dataframes = [df_arts_music, df_culture, df_drama, df_food, df_history, df_howto, df_indie, df_news, df_science] # all dfs\n",
    "# Create users\n",
    "df_young = create_users(dataframes, young_persona, n_users=15, seed=42, name='young')\n",
    "df_family = create_users(dataframes, family_persona, n_users=20, seed=4, name='family')\n",
    "df_old = create_users(dataframes, old_persona, n_users=20, seed=69, name='old')\n",
    "df_fan = create_users(dataframes, fan_persona, n_users=20, seed=666, name='fan')\n",
    "df_users = pd.concat([df_young, df_old, df_family, df_fan])\n",
    "df_shows = pd.concat(dataframes).reset_index().drop(columns='index')\n",
    "df_shows.index.name='movieId'\n",
    "df_users.head()"
   ]
  },
  {
   "cell_type": "markdown",
   "metadata": {
    "id": "njSIVkpeCc3b"
   },
   "source": [
    "## Creating Watched dataframe"
   ]
  },
  {
   "cell_type": "code",
   "execution_count": 7,
   "metadata": {
    "colab": {
     "base_uri": "https://localhost:8080/",
     "height": 206
    },
    "executionInfo": {
     "elapsed": 6154,
     "status": "ok",
     "timestamp": 1679924903444,
     "user": {
      "displayName": "Αθανάσιος Σουλιώτης",
      "userId": "16355387212771253692"
     },
     "user_tz": -120
    },
    "id": "IVqdg7duCc3b",
    "outputId": "1ad99d77-b549-4a9e-9130-d3e35f9df358"
   },
   "outputs": [
    {
     "data": {
      "text/html": [
       "<div>\n",
       "<style scoped>\n",
       "    .dataframe tbody tr th:only-of-type {\n",
       "        vertical-align: middle;\n",
       "    }\n",
       "\n",
       "    .dataframe tbody tr th {\n",
       "        vertical-align: top;\n",
       "    }\n",
       "\n",
       "    .dataframe thead th {\n",
       "        text-align: right;\n",
       "    }\n",
       "</style>\n",
       "<table border=\"1\" class=\"dataframe\">\n",
       "  <thead>\n",
       "    <tr style=\"text-align: right;\">\n",
       "      <th></th>\n",
       "      <th>user</th>\n",
       "      <th>show</th>\n",
       "    </tr>\n",
       "  </thead>\n",
       "  <tbody>\n",
       "    <tr>\n",
       "      <th>0</th>\n",
       "      <td>young_user0</td>\n",
       "      <td>Yes to Running: Bill Harley Live</td>\n",
       "    </tr>\n",
       "    <tr>\n",
       "      <th>1</th>\n",
       "      <td>young_user0</td>\n",
       "      <td>Writing in Peace and War</td>\n",
       "    </tr>\n",
       "    <tr>\n",
       "      <th>2</th>\n",
       "      <td>young_user0</td>\n",
       "      <td>Welcome Christmas with VocalEssence</td>\n",
       "    </tr>\n",
       "    <tr>\n",
       "      <th>3</th>\n",
       "      <td>young_user0</td>\n",
       "      <td>We Remember: Songs of Survivors</td>\n",
       "    </tr>\n",
       "    <tr>\n",
       "      <th>4</th>\n",
       "      <td>young_user0</td>\n",
       "      <td>Walter Anderson: The Extraordinary Life and Ar...</td>\n",
       "    </tr>\n",
       "  </tbody>\n",
       "</table>\n",
       "</div>"
      ],
      "text/plain": [
       "          user                                               show\n",
       "0  young_user0                   Yes to Running: Bill Harley Live\n",
       "1  young_user0                           Writing in Peace and War\n",
       "2  young_user0                Welcome Christmas with VocalEssence\n",
       "3  young_user0                    We Remember: Songs of Survivors\n",
       "4  young_user0  Walter Anderson: The Extraordinary Life and Ar..."
      ]
     },
     "execution_count": 7,
     "metadata": {},
     "output_type": "execute_result"
    }
   ],
   "source": [
    "# With this dataframe we can do content based recommendations to start of the recommender system\n",
    "watched = []\n",
    "for x in range(len(df_users)):\n",
    "    for i in range(len(df_users.columns)):\n",
    "        if df_users.iloc[x,i] == 1:\n",
    "            watched.append((df_users.index[x], df_users.columns[i]))\n",
    "df_watched = pd.DataFrame(watched, columns=['user', 'show'])\n",
    "df_watched.head()"
   ]
  },
  {
   "cell_type": "markdown",
   "metadata": {
    "id": "PZwkmE37Ohjo"
   },
   "source": [
    "## Creating Genre dataframe"
   ]
  },
  {
   "cell_type": "code",
   "execution_count": 8,
   "metadata": {
    "colab": {
     "base_uri": "https://localhost:8080/",
     "height": 472
    },
    "executionInfo": {
     "elapsed": 607,
     "status": "ok",
     "timestamp": 1679924920939,
     "user": {
      "displayName": "Αθανάσιος Σουλιώτης",
      "userId": "16355387212771253692"
     },
     "user_tz": -120
    },
    "id": "Q3cZT7ZXOhjp",
    "outputId": "c692891a-d3cc-4077-aed7-b87c27868397"
   },
   "outputs": [
    {
     "name": "stdout",
     "output_type": "stream",
     "text": [
      "(3365, 9)\n"
     ]
    },
    {
     "data": {
      "text/html": [
       "<div>\n",
       "<style scoped>\n",
       "    .dataframe tbody tr th:only-of-type {\n",
       "        vertical-align: middle;\n",
       "    }\n",
       "\n",
       "    .dataframe tbody tr th {\n",
       "        vertical-align: top;\n",
       "    }\n",
       "\n",
       "    .dataframe thead th {\n",
       "        text-align: right;\n",
       "    }\n",
       "</style>\n",
       "<table border=\"1\" class=\"dataframe\">\n",
       "  <thead>\n",
       "    <tr style=\"text-align: right;\">\n",
       "      <th>category</th>\n",
       "      <th>Arts &amp; Music</th>\n",
       "      <th>Culture</th>\n",
       "      <th>Drama</th>\n",
       "      <th>Food</th>\n",
       "      <th>History</th>\n",
       "      <th>Home &amp; Howto</th>\n",
       "      <th>Indie</th>\n",
       "      <th>News</th>\n",
       "      <th>Science</th>\n",
       "    </tr>\n",
       "    <tr>\n",
       "      <th>movieId</th>\n",
       "      <th></th>\n",
       "      <th></th>\n",
       "      <th></th>\n",
       "      <th></th>\n",
       "      <th></th>\n",
       "      <th></th>\n",
       "      <th></th>\n",
       "      <th></th>\n",
       "      <th></th>\n",
       "    </tr>\n",
       "  </thead>\n",
       "  <tbody>\n",
       "    <tr>\n",
       "      <th>0</th>\n",
       "      <td>1</td>\n",
       "      <td>0</td>\n",
       "      <td>0</td>\n",
       "      <td>0</td>\n",
       "      <td>0</td>\n",
       "      <td>0</td>\n",
       "      <td>0</td>\n",
       "      <td>0</td>\n",
       "      <td>0</td>\n",
       "    </tr>\n",
       "    <tr>\n",
       "      <th>1</th>\n",
       "      <td>1</td>\n",
       "      <td>0</td>\n",
       "      <td>0</td>\n",
       "      <td>0</td>\n",
       "      <td>0</td>\n",
       "      <td>0</td>\n",
       "      <td>0</td>\n",
       "      <td>0</td>\n",
       "      <td>0</td>\n",
       "    </tr>\n",
       "    <tr>\n",
       "      <th>2</th>\n",
       "      <td>1</td>\n",
       "      <td>0</td>\n",
       "      <td>0</td>\n",
       "      <td>0</td>\n",
       "      <td>0</td>\n",
       "      <td>0</td>\n",
       "      <td>0</td>\n",
       "      <td>0</td>\n",
       "      <td>0</td>\n",
       "    </tr>\n",
       "    <tr>\n",
       "      <th>3</th>\n",
       "      <td>1</td>\n",
       "      <td>0</td>\n",
       "      <td>0</td>\n",
       "      <td>0</td>\n",
       "      <td>0</td>\n",
       "      <td>0</td>\n",
       "      <td>0</td>\n",
       "      <td>0</td>\n",
       "      <td>0</td>\n",
       "    </tr>\n",
       "    <tr>\n",
       "      <th>4</th>\n",
       "      <td>1</td>\n",
       "      <td>0</td>\n",
       "      <td>0</td>\n",
       "      <td>0</td>\n",
       "      <td>0</td>\n",
       "      <td>0</td>\n",
       "      <td>0</td>\n",
       "      <td>0</td>\n",
       "      <td>0</td>\n",
       "    </tr>\n",
       "    <tr>\n",
       "      <th>...</th>\n",
       "      <td>...</td>\n",
       "      <td>...</td>\n",
       "      <td>...</td>\n",
       "      <td>...</td>\n",
       "      <td>...</td>\n",
       "      <td>...</td>\n",
       "      <td>...</td>\n",
       "      <td>...</td>\n",
       "      <td>...</td>\n",
       "    </tr>\n",
       "    <tr>\n",
       "      <th>3360</th>\n",
       "      <td>0</td>\n",
       "      <td>0</td>\n",
       "      <td>0</td>\n",
       "      <td>0</td>\n",
       "      <td>0</td>\n",
       "      <td>0</td>\n",
       "      <td>0</td>\n",
       "      <td>0</td>\n",
       "      <td>1</td>\n",
       "    </tr>\n",
       "    <tr>\n",
       "      <th>3361</th>\n",
       "      <td>0</td>\n",
       "      <td>0</td>\n",
       "      <td>0</td>\n",
       "      <td>0</td>\n",
       "      <td>0</td>\n",
       "      <td>0</td>\n",
       "      <td>0</td>\n",
       "      <td>0</td>\n",
       "      <td>1</td>\n",
       "    </tr>\n",
       "    <tr>\n",
       "      <th>3362</th>\n",
       "      <td>0</td>\n",
       "      <td>0</td>\n",
       "      <td>0</td>\n",
       "      <td>0</td>\n",
       "      <td>0</td>\n",
       "      <td>0</td>\n",
       "      <td>0</td>\n",
       "      <td>0</td>\n",
       "      <td>1</td>\n",
       "    </tr>\n",
       "    <tr>\n",
       "      <th>3363</th>\n",
       "      <td>0</td>\n",
       "      <td>0</td>\n",
       "      <td>0</td>\n",
       "      <td>0</td>\n",
       "      <td>0</td>\n",
       "      <td>0</td>\n",
       "      <td>0</td>\n",
       "      <td>0</td>\n",
       "      <td>1</td>\n",
       "    </tr>\n",
       "    <tr>\n",
       "      <th>3364</th>\n",
       "      <td>0</td>\n",
       "      <td>0</td>\n",
       "      <td>0</td>\n",
       "      <td>0</td>\n",
       "      <td>0</td>\n",
       "      <td>0</td>\n",
       "      <td>0</td>\n",
       "      <td>0</td>\n",
       "      <td>1</td>\n",
       "    </tr>\n",
       "  </tbody>\n",
       "</table>\n",
       "<p>3365 rows × 9 columns</p>\n",
       "</div>"
      ],
      "text/plain": [
       "category  Arts & Music  Culture  Drama  Food  History  Home & Howto  Indie  \\\n",
       "movieId                                                                      \n",
       "0                    1        0      0     0        0             0      0   \n",
       "1                    1        0      0     0        0             0      0   \n",
       "2                    1        0      0     0        0             0      0   \n",
       "3                    1        0      0     0        0             0      0   \n",
       "4                    1        0      0     0        0             0      0   \n",
       "...                ...      ...    ...   ...      ...           ...    ...   \n",
       "3360                 0        0      0     0        0             0      0   \n",
       "3361                 0        0      0     0        0             0      0   \n",
       "3362                 0        0      0     0        0             0      0   \n",
       "3363                 0        0      0     0        0             0      0   \n",
       "3364                 0        0      0     0        0             0      0   \n",
       "\n",
       "category  News  Science  \n",
       "movieId                  \n",
       "0            0        0  \n",
       "1            0        0  \n",
       "2            0        0  \n",
       "3            0        0  \n",
       "4            0        0  \n",
       "...        ...      ...  \n",
       "3360         0        1  \n",
       "3361         0        1  \n",
       "3362         0        1  \n",
       "3363         0        1  \n",
       "3364         0        1  \n",
       "\n",
       "[3365 rows x 9 columns]"
      ]
     },
     "execution_count": 8,
     "metadata": {},
     "output_type": "execute_result"
    }
   ],
   "source": [
    "df_category = df_shows[['category']]\n",
    "df_category = pd.crosstab(df_category.index, df_category.category)\n",
    "df_category.index.name = 'movieId'\n",
    "print(df_category.shape)\n",
    "df_category"
   ]
  },
  {
   "cell_type": "code",
   "execution_count": 9,
   "metadata": {
    "id": "vueZDWIfOhjp"
   },
   "outputs": [],
   "source": [
    "df_users_movies = []\n",
    "# Go over each user and check if there is a 1 if there is they watched that movie and add it to the users personal watched list\n",
    "for i in range(len(df_users)):\n",
    "    user=[]\n",
    "    for x in range(len(df_users.columns)):\n",
    "        if df_users.iloc[i,x] == 1:\n",
    "            user.append(df_category.iloc[x,:])\n",
    "    # save it as a dataframe and add it to a list\n",
    "    df = pd.DataFrame(user, columns=df_category.columns)\n",
    "    df.index.name = df_users.iloc[[i]].index.values[0]\n",
    "    df.columns.name = 'movieId'\n",
    "    df_users_movies.append(df)"
   ]
  },
  {
   "cell_type": "code",
   "execution_count": 10,
   "metadata": {
    "colab": {
     "base_uri": "https://localhost:8080/",
     "height": 237
    },
    "executionInfo": {
     "elapsed": 297,
     "status": "ok",
     "timestamp": 1679925114484,
     "user": {
      "displayName": "Αθανάσιος Σουλιώτης",
      "userId": "16355387212771253692"
     },
     "user_tz": -120
    },
    "id": "xPjW8QdqOhjp",
    "outputId": "f97dea56-f40b-4b02-aa66-8d5679e3d0a9"
   },
   "outputs": [
    {
     "data": {
      "text/html": [
       "<div>\n",
       "<style scoped>\n",
       "    .dataframe tbody tr th:only-of-type {\n",
       "        vertical-align: middle;\n",
       "    }\n",
       "\n",
       "    .dataframe tbody tr th {\n",
       "        vertical-align: top;\n",
       "    }\n",
       "\n",
       "    .dataframe thead th {\n",
       "        text-align: right;\n",
       "    }\n",
       "</style>\n",
       "<table border=\"1\" class=\"dataframe\">\n",
       "  <thead>\n",
       "    <tr style=\"text-align: right;\">\n",
       "      <th>movieId</th>\n",
       "      <th>Arts &amp; Music</th>\n",
       "      <th>Culture</th>\n",
       "      <th>Drama</th>\n",
       "      <th>Food</th>\n",
       "      <th>History</th>\n",
       "      <th>Home &amp; Howto</th>\n",
       "      <th>Indie</th>\n",
       "      <th>News</th>\n",
       "      <th>Science</th>\n",
       "    </tr>\n",
       "    <tr>\n",
       "      <th>young_user10</th>\n",
       "      <th></th>\n",
       "      <th></th>\n",
       "      <th></th>\n",
       "      <th></th>\n",
       "      <th></th>\n",
       "      <th></th>\n",
       "      <th></th>\n",
       "      <th></th>\n",
       "      <th></th>\n",
       "    </tr>\n",
       "  </thead>\n",
       "  <tbody>\n",
       "    <tr>\n",
       "      <th>0</th>\n",
       "      <td>1</td>\n",
       "      <td>0</td>\n",
       "      <td>0</td>\n",
       "      <td>0</td>\n",
       "      <td>0</td>\n",
       "      <td>0</td>\n",
       "      <td>0</td>\n",
       "      <td>0</td>\n",
       "      <td>0</td>\n",
       "    </tr>\n",
       "    <tr>\n",
       "      <th>2</th>\n",
       "      <td>1</td>\n",
       "      <td>0</td>\n",
       "      <td>0</td>\n",
       "      <td>0</td>\n",
       "      <td>0</td>\n",
       "      <td>0</td>\n",
       "      <td>0</td>\n",
       "      <td>0</td>\n",
       "      <td>0</td>\n",
       "    </tr>\n",
       "    <tr>\n",
       "      <th>10</th>\n",
       "      <td>1</td>\n",
       "      <td>0</td>\n",
       "      <td>0</td>\n",
       "      <td>0</td>\n",
       "      <td>0</td>\n",
       "      <td>0</td>\n",
       "      <td>0</td>\n",
       "      <td>0</td>\n",
       "      <td>0</td>\n",
       "    </tr>\n",
       "    <tr>\n",
       "      <th>13</th>\n",
       "      <td>1</td>\n",
       "      <td>0</td>\n",
       "      <td>0</td>\n",
       "      <td>0</td>\n",
       "      <td>0</td>\n",
       "      <td>0</td>\n",
       "      <td>0</td>\n",
       "      <td>0</td>\n",
       "      <td>0</td>\n",
       "    </tr>\n",
       "    <tr>\n",
       "      <th>17</th>\n",
       "      <td>1</td>\n",
       "      <td>0</td>\n",
       "      <td>0</td>\n",
       "      <td>0</td>\n",
       "      <td>0</td>\n",
       "      <td>0</td>\n",
       "      <td>0</td>\n",
       "      <td>0</td>\n",
       "      <td>0</td>\n",
       "    </tr>\n",
       "  </tbody>\n",
       "</table>\n",
       "</div>"
      ],
      "text/plain": [
       "movieId       Arts & Music  Culture  Drama  Food  History  Home & Howto  \\\n",
       "young_user10                                                              \n",
       "0                        1        0      0     0        0             0   \n",
       "2                        1        0      0     0        0             0   \n",
       "10                       1        0      0     0        0             0   \n",
       "13                       1        0      0     0        0             0   \n",
       "17                       1        0      0     0        0             0   \n",
       "\n",
       "movieId       Indie  News  Science  \n",
       "young_user10                        \n",
       "0                 0     0        0  \n",
       "2                 0     0        0  \n",
       "10                0     0        0  \n",
       "13                0     0        0  \n",
       "17                0     0        0  "
      ]
     },
     "execution_count": 10,
     "metadata": {},
     "output_type": "execute_result"
    }
   ],
   "source": [
    "df_users_movies[10].head()"
   ]
  },
  {
   "cell_type": "markdown",
   "metadata": {
    "id": "nxvQHB5cCc3c"
   },
   "source": [
    "## Save dataframes"
   ]
  },
  {
   "cell_type": "code",
   "execution_count": 11,
   "metadata": {
    "id": "HeJxPq0RCc3c"
   },
   "outputs": [],
   "source": [
    "# Dataframes to csv\n",
    "#mypath = '/content/gdrive/MyDrive/public_media_assignment2/data' drive\n",
    "mypath = 'data' #local\n",
    "# df_young.to_csv(mypath+'/df_young.csv', index=False)\n",
    "# df_family.to_csv(mypath+'/df_family.csv', index=False)\n",
    "# df_old.to_csv(mypath+'/df_old.csv', index=False)\n",
    "# df_fan.to_csv(mypath+'/df_fan.csv', index=False)\n",
    "df_watched.to_csv(mypath+'/df_watched.csv', index=True)\n",
    "df_users.to_csv(mypath+'/df_users.csv', index=True)\n",
    "df_category.to_csv(mypath+'/df_category.csv', index=True)\n",
    "df_arts_music.to_csv(mypath+'/df_arts_music.csv', index=False)\n",
    "df_culture.to_csv(mypath+'/df_culture.csv', index=False)\n",
    "df_drama.to_csv(mypath+'/df_drama.csv', index=False)\n",
    "df_food.to_csv(mypath+'/df_food.csv', index=False)\n",
    "df_history.to_csv(mypath+'/df_history.csv', index=False)\n",
    "df_howto.to_csv(mypath+'/df_howto.csv', index=False)\n",
    "df_indie.to_csv(mypath+'/df_indie.csv', index=False)\n",
    "df_news.to_csv(mypath+'/df_news.csv', index=False)\n",
    "df_science.to_csv(mypath+'/df_science.csv', index=False)\n",
    "df_shows.to_csv(mypath+'/df_shows.csv', index=False)"
   ]
  },
  {
   "cell_type": "markdown",
   "metadata": {
    "id": "CC6KU4fSCe-A"
   },
   "source": [
    "We created the dataframe with all the different shows that different users watched, so now a user based dataframe can be created. In PBS there are multiple ways a user can indicate if he/she is interested in a show these are:\n",
    "\n",
    "- clicked on the show \n",
    "- watched the preview\n",
    "- clicked on explore the show\n",
    "- added the show to his or her list\n",
    "\n",
    "Also we can add different user data for example\n",
    "\n",
    "- at what time the user watched\n",
    "- the device the user is watching on \n",
    "- how long the user watched in a session\n",
    "\n",
    "With this information a dataframe can be created that indicates what actions different users performed on different shows"
   ]
  },
  {
   "cell_type": "code",
   "execution_count": 12,
   "metadata": {
    "id": "clm5uYvkCe-A"
   },
   "outputs": [],
   "source": [
    "# this is pretty advanced should ask in seminar"
   ]
  },
  {
   "cell_type": "markdown",
   "metadata": {
    "id": "WGla_9yTCe-A"
   },
   "source": [
    "## Content Based Filtering\n",
    "\n",
    "Content-based filtering is a technique used in recommender systems that focuses on the attributes of the items being recommended rather than the preferences of the users. It works by analyzing the content or features of the items and then recommending similar items to users who have shown an interest in those features.\n",
    "\n",
    "The system creates a profile for each user based on the items they have interacted with or rated in the past. The system then uses this information to recommend new items to the user that have similar content or features to the items they have enjoyed in the past. For example, if a user has watched and liked several action movies, the system will recommend more action movies to that user.\n",
    "\n",
    "We can implement this by recommending shows that the user enjoys for example according to the genre"
   ]
  },
  {
   "cell_type": "code",
   "execution_count": 13,
   "metadata": {
    "colab": {
     "base_uri": "https://localhost:8080/",
     "height": 363
    },
    "executionInfo": {
     "elapsed": 658,
     "status": "ok",
     "timestamp": 1679923798139,
     "user": {
      "displayName": "Tino Ouwerkerk",
      "userId": "01616325782816095016"
     },
     "user_tz": -120
    },
    "id": "TTm43d3nCe-A",
    "outputId": "40f120e3-71fb-4088-a2ff-3cc925315f14"
   },
   "outputs": [
    {
     "data": {
      "text/html": [
       "<div>\n",
       "<style scoped>\n",
       "    .dataframe tbody tr th:only-of-type {\n",
       "        vertical-align: middle;\n",
       "    }\n",
       "\n",
       "    .dataframe tbody tr th {\n",
       "        vertical-align: top;\n",
       "    }\n",
       "\n",
       "    .dataframe thead th {\n",
       "        text-align: right;\n",
       "    }\n",
       "</style>\n",
       "<table border=\"1\" class=\"dataframe\">\n",
       "  <thead>\n",
       "    <tr style=\"text-align: right;\">\n",
       "      <th></th>\n",
       "      <th>show</th>\n",
       "      <th>count</th>\n",
       "    </tr>\n",
       "  </thead>\n",
       "  <tbody>\n",
       "    <tr>\n",
       "      <th>0</th>\n",
       "      <td>Briarhoppers: Celebrating 86 Years</td>\n",
       "      <td>29</td>\n",
       "    </tr>\n",
       "    <tr>\n",
       "      <th>1</th>\n",
       "      <td>The Elders’ Last Tour: Going To Arklow</td>\n",
       "      <td>29</td>\n",
       "    </tr>\n",
       "    <tr>\n",
       "      <th>2</th>\n",
       "      <td>American Songbook at NJPAC Hosted by Michael F...</td>\n",
       "      <td>29</td>\n",
       "    </tr>\n",
       "    <tr>\n",
       "      <th>3</th>\n",
       "      <td>Landscapes of South Dakota</td>\n",
       "      <td>28</td>\n",
       "    </tr>\n",
       "    <tr>\n",
       "      <th>4</th>\n",
       "      <td>The Nitty Gritty Dirt Band: 50 Years and Circl...</td>\n",
       "      <td>28</td>\n",
       "    </tr>\n",
       "    <tr>\n",
       "      <th>5</th>\n",
       "      <td>KC Bands Together</td>\n",
       "      <td>27</td>\n",
       "    </tr>\n",
       "    <tr>\n",
       "      <th>6</th>\n",
       "      <td>The Arts Page</td>\n",
       "      <td>27</td>\n",
       "    </tr>\n",
       "    <tr>\n",
       "      <th>7</th>\n",
       "      <td>Off 90</td>\n",
       "      <td>27</td>\n",
       "    </tr>\n",
       "    <tr>\n",
       "      <th>8</th>\n",
       "      <td>Illinois Artists at Work: Cannot Live Without</td>\n",
       "      <td>26</td>\n",
       "    </tr>\n",
       "    <tr>\n",
       "      <th>9</th>\n",
       "      <td>Between The Covers</td>\n",
       "      <td>26</td>\n",
       "    </tr>\n",
       "  </tbody>\n",
       "</table>\n",
       "</div>"
      ],
      "text/plain": [
       "                                                show  count\n",
       "0                 Briarhoppers: Celebrating 86 Years     29\n",
       "1             The Elders’ Last Tour: Going To Arklow     29\n",
       "2  American Songbook at NJPAC Hosted by Michael F...     29\n",
       "3                         Landscapes of South Dakota     28\n",
       "4  The Nitty Gritty Dirt Band: 50 Years and Circl...     28\n",
       "5                                  KC Bands Together     27\n",
       "6                                      The Arts Page     27\n",
       "7                                             Off 90     27\n",
       "8      Illinois Artists at Work: Cannot Live Without     26\n",
       "9                                 Between The Covers     26"
      ]
     },
     "execution_count": 13,
     "metadata": {},
     "output_type": "execute_result"
    }
   ],
   "source": [
    "top_10 = df_watched['show'].value_counts().head(10).reset_index().rename(columns={'index':'show', 'show':'count'})\n",
    "top_10.to_csv(mypath+'/recommendations-most-watched.csv', index=False)\n",
    "top_10"
   ]
  },
  {
   "attachments": {},
   "cell_type": "markdown",
   "metadata": {},
   "source": [
    "## Ianthi"
   ]
  },
  {
   "cell_type": "code",
   "execution_count": 14,
   "metadata": {},
   "outputs": [
    {
     "data": {
      "text/html": [
       "<div>\n",
       "<style scoped>\n",
       "    .dataframe tbody tr th:only-of-type {\n",
       "        vertical-align: middle;\n",
       "    }\n",
       "\n",
       "    .dataframe tbody tr th {\n",
       "        vertical-align: top;\n",
       "    }\n",
       "\n",
       "    .dataframe thead th {\n",
       "        text-align: right;\n",
       "    }\n",
       "</style>\n",
       "<table border=\"1\" class=\"dataframe\">\n",
       "  <thead>\n",
       "    <tr style=\"text-align: right;\">\n",
       "      <th></th>\n",
       "      <th>category</th>\n",
       "      <th>description</th>\n",
       "      <th>show</th>\n",
       "    </tr>\n",
       "  </thead>\n",
       "  <tbody>\n",
       "    <tr>\n",
       "      <th>0</th>\n",
       "      <td>Arts &amp; Music</td>\n",
       "      <td>Featured: Furniture restoration expert Bruce S...</td>\n",
       "      <td>arts IN focus</td>\n",
       "    </tr>\n",
       "    <tr>\n",
       "      <th>1</th>\n",
       "      <td>Arts &amp; Music</td>\n",
       "      <td>Cincinnati Maritime Modelers, artist Amy Deal,...</td>\n",
       "      <td>arts Bridge</td>\n",
       "    </tr>\n",
       "    <tr>\n",
       "      <th>2</th>\n",
       "      <td>Arts &amp; Music</td>\n",
       "      <td>Zoltán Mága: Live from Budapest is a musical e...</td>\n",
       "      <td>Zoltan Maga: Live from Budapest with David Foster</td>\n",
       "    </tr>\n",
       "    <tr>\n",
       "      <th>3</th>\n",
       "      <td>Arts &amp; Music</td>\n",
       "      <td>Japanese musician Yoshiki packs Carnegie Hall ...</td>\n",
       "      <td>Yoshiki: Live at Carnegie Hall</td>\n",
       "    </tr>\n",
       "    <tr>\n",
       "      <th>4</th>\n",
       "      <td>Arts &amp; Music</td>\n",
       "      <td>Bill Harley delights children and adults alike...</td>\n",
       "      <td>Yes to Running: Bill Harley Live</td>\n",
       "    </tr>\n",
       "  </tbody>\n",
       "</table>\n",
       "</div>"
      ],
      "text/plain": [
       "       category                                        description  \\\n",
       "0  Arts & Music  Featured: Furniture restoration expert Bruce S...   \n",
       "1  Arts & Music  Cincinnati Maritime Modelers, artist Amy Deal,...   \n",
       "2  Arts & Music  Zoltán Mága: Live from Budapest is a musical e...   \n",
       "3  Arts & Music  Japanese musician Yoshiki packs Carnegie Hall ...   \n",
       "4  Arts & Music  Bill Harley delights children and adults alike...   \n",
       "\n",
       "                                                show  \n",
       "0                                      arts IN focus  \n",
       "1                                        arts Bridge  \n",
       "2  Zoltan Maga: Live from Budapest with David Foster  \n",
       "3                     Yoshiki: Live at Carnegie Hall  \n",
       "4                   Yes to Running: Bill Harley Live  "
      ]
     },
     "execution_count": 14,
     "metadata": {},
     "output_type": "execute_result"
    }
   ],
   "source": [
    "#Combine all categories\n",
    "dataframes = pd.concat([df_arts_music, df_culture, df_drama, df_food, df_history, df_howto, df_indie, df_news, df_science]) \n",
    "#Reseting numbering\n",
    "dataframes = dataframes.reset_index(drop=True)\n",
    "#Keeping the categories we are going to use\n",
    "X = np.array(dataframes.description)\n",
    "data = dataframes[['category','description','show']]\n",
    "data.to_csv('data/content_based.csv', index=True)\n",
    "data.head()"
   ]
  },
  {
   "cell_type": "code",
   "execution_count": 15,
   "metadata": {},
   "outputs": [
    {
     "data": {
      "application/vnd.jupyter.widget-view+json": {
       "model_id": "65acf4557d3740e59c77c9684a34ab0b",
       "version_major": 2,
       "version_minor": 0
      },
      "text/plain": [
       "Batches:   0%|          | 0/106 [00:00<?, ?it/s]"
      ]
     },
     "metadata": {},
     "output_type": "display_data"
    }
   ],
   "source": [
    "text_data = X\n",
    "model = SentenceTransformer('distilbert-base-nli-mean-tokens')\n",
    "embeddings = model.encode(text_data, show_progress_bar=True)"
   ]
  },
  {
   "cell_type": "code",
   "execution_count": 16,
   "metadata": {},
   "outputs": [
    {
     "data": {
      "text/html": [
       "<div>\n",
       "<style scoped>\n",
       "    .dataframe tbody tr th:only-of-type {\n",
       "        vertical-align: middle;\n",
       "    }\n",
       "\n",
       "    .dataframe tbody tr th {\n",
       "        vertical-align: top;\n",
       "    }\n",
       "\n",
       "    .dataframe thead th {\n",
       "        text-align: right;\n",
       "    }\n",
       "</style>\n",
       "<table border=\"1\" class=\"dataframe\">\n",
       "  <thead>\n",
       "    <tr style=\"text-align: right;\">\n",
       "      <th></th>\n",
       "      <th>0</th>\n",
       "      <th>1</th>\n",
       "      <th>2</th>\n",
       "      <th>3</th>\n",
       "      <th>4</th>\n",
       "    </tr>\n",
       "  </thead>\n",
       "  <tbody>\n",
       "    <tr>\n",
       "      <th>0</th>\n",
       "      <td>1.819210</td>\n",
       "      <td>1.725434</td>\n",
       "      <td>-0.559228</td>\n",
       "      <td>-4.118472</td>\n",
       "      <td>1.635649</td>\n",
       "    </tr>\n",
       "    <tr>\n",
       "      <th>1</th>\n",
       "      <td>-2.827150</td>\n",
       "      <td>-2.580153</td>\n",
       "      <td>-1.213453</td>\n",
       "      <td>-3.791024</td>\n",
       "      <td>-0.493212</td>\n",
       "    </tr>\n",
       "    <tr>\n",
       "      <th>2</th>\n",
       "      <td>-2.256783</td>\n",
       "      <td>0.739761</td>\n",
       "      <td>4.654517</td>\n",
       "      <td>-2.813555</td>\n",
       "      <td>-2.306345</td>\n",
       "    </tr>\n",
       "    <tr>\n",
       "      <th>3</th>\n",
       "      <td>-6.151664</td>\n",
       "      <td>-3.833063</td>\n",
       "      <td>5.673294</td>\n",
       "      <td>-2.390007</td>\n",
       "      <td>-1.182634</td>\n",
       "    </tr>\n",
       "    <tr>\n",
       "      <th>4</th>\n",
       "      <td>1.831611</td>\n",
       "      <td>-5.404703</td>\n",
       "      <td>4.819712</td>\n",
       "      <td>-2.281183</td>\n",
       "      <td>1.834391</td>\n",
       "    </tr>\n",
       "  </tbody>\n",
       "</table>\n",
       "</div>"
      ],
      "text/plain": [
       "          0         1         2         3         4\n",
       "0  1.819210  1.725434 -0.559228 -4.118472  1.635649\n",
       "1 -2.827150 -2.580153 -1.213453 -3.791024 -0.493212\n",
       "2 -2.256783  0.739761  4.654517 -2.813555 -2.306345\n",
       "3 -6.151664 -3.833063  5.673294 -2.390007 -1.182634\n",
       "4  1.831611 -5.404703  4.819712 -2.281183  1.834391"
      ]
     },
     "execution_count": 16,
     "metadata": {},
     "output_type": "execute_result"
    }
   ],
   "source": [
    "X = np.array(embeddings)\n",
    "n_comp = 5\n",
    "pca = PCA(n_components=n_comp)\n",
    "pca.fit(X)\n",
    "pca_data = pd.DataFrame(pca.transform(X))\n",
    "pca_data.head()"
   ]
  },
  {
   "cell_type": "code",
   "execution_count": 17,
   "metadata": {},
   "outputs": [],
   "source": [
    "#Plotting the PCA\n",
    "#sns.pairplot(pca_data)"
   ]
  },
  {
   "cell_type": "code",
   "execution_count": 18,
   "metadata": {},
   "outputs": [],
   "source": [
    "cos_sim_data = pd.DataFrame(cosine_similarity(X))\n",
    "cos_sim_data.to_csv('data/cos_sim_data.csv', index=True)\n",
    "def give_recommendations(index,cos_sim_data,number_recom, print_recommendation = False,print_recommendation_description= False,print_category =False):\n",
    "  recomm = cos_sim_data.loc[index].sort_values(ascending=False).index.tolist()[1:number_recom+1]\n",
    "  movies_recomm =  data['show'].loc[recomm].values\n",
    "  result = {'Movies':movies_recomm,'Index':recomm}\n",
    "  return result"
   ]
  },
  {
   "cell_type": "code",
   "execution_count": 19,
   "metadata": {},
   "outputs": [
    {
     "data": {
      "text/plain": [
       "array(['Lakeland News', 'Eyes on the Prize', 'WGBH', 'Citizen Lane',\n",
       "       'Seasonal Specials', 'The Newport Bridge: A Rhode Island Icon',\n",
       "       'SXSW Flashback', 'Global Voices', 'Chicago Tonight: Black Voices',\n",
       "       'Return of the Cicadas',\n",
       "       \"Everlasting Light: Indiana's Bicentennial Torch Relay\"],\n",
       "      dtype=object)"
      ]
     },
     "execution_count": 19,
     "metadata": {},
     "output_type": "execute_result"
    }
   ],
   "source": [
    "#Saving the 5 recommendations for each show in the list\n",
    "recomm_list = []\n",
    "for i in range(len(df_shows)):\n",
    "  recomm_i = give_recommendations(i,cos_sim_data,10)\n",
    "  recomm_list.append(recomm_i['Movies'])\n",
    "\n",
    "# check what shows the user watched\n",
    "watched_shows = df_watched.loc[df_watched.user=='young_user1'].show.values\n",
    "movie_ids = df_shows.loc[df_shows['show'].isin(watched_shows)].index\n",
    "\n",
    "# give recommendations based on watched shows\n",
    "recomm_data = pd.DataFrame(recomm_list)\n",
    "recomm_data.to_csv('data/content_based_recom.csv', index=True)\n",
    "recomm_data['show'] = data['show']\n",
    "recom_movie = recomm_data.loc[recomm_data.index.isin(movie_ids)]\n",
    "random_num = random.choice(recom_movie.index)\n",
    "recom_movie.loc[random_num].values"
   ]
  },
  {
   "cell_type": "code",
   "execution_count": 20,
   "metadata": {},
   "outputs": [
    {
     "data": {
      "text/plain": [
       "\"Everlasting Light: Indiana's Bicentennial Torch Relay\""
      ]
     },
     "execution_count": 20,
     "metadata": {},
     "output_type": "execute_result"
    }
   ],
   "source": [
    "movie = recom_movie['show'].loc[random_num]\n",
    "movie"
   ]
  },
  {
   "cell_type": "markdown",
   "metadata": {
    "id": "dtrsOz7PCe-A"
   },
   "source": [
    "## Collaborative Filtering\n",
    "\n",
    "There are two main types of collaborative filtering: \n",
    "- user-based:\n",
    "\n",
    "In user-based collaborative filtering, the system recommends items to a user based on the preferences of similar users. This is done by identifying users who have similar preferences and recommending items that they have enjoyed. \n",
    "- item-based:\n",
    "\n",
    "In item-based collaborative filtering, the system recommends items to a user based on the similarity of the items themselves. This is done by analyzing the characteristics of items and recommending items that are similar to ones the user has enjoyed in the past."
   ]
  },
  {
   "cell_type": "code",
   "execution_count": 21,
   "metadata": {},
   "outputs": [
    {
     "data": {
      "text/plain": [
       "(75, 3365)"
      ]
     },
     "execution_count": 21,
     "metadata": {},
     "output_type": "execute_result"
    }
   ],
   "source": [
    "df_users.shape"
   ]
  },
  {
   "cell_type": "markdown",
   "metadata": {
    "id": "iXSD2K1Pc5mR"
   },
   "source": [
    "1st step: Create the jaccard similarity matrix for item-based collab filtering"
   ]
  },
  {
   "cell_type": "code",
   "execution_count": 22,
   "metadata": {
    "colab": {
     "base_uri": "https://localhost:8080/"
    },
    "executionInfo": {
     "elapsed": 1149,
     "status": "ok",
     "timestamp": 1679925249561,
     "user": {
      "displayName": "Αθανάσιος Σουλιώτης",
      "userId": "16355387212771253692"
     },
     "user_tz": -120
    },
    "id": "yg_LmuDUdPxb",
    "outputId": "7c006d83-5175-4e9a-b761-7a8f921f0868"
   },
   "outputs": [
    {
     "name": "stderr",
     "output_type": "stream",
     "text": [
      "c:\\Users\\tinot\\anaconda3\\envs\\rs\\lib\\site-packages\\sklearn\\metrics\\pairwise.py:2025: DataConversionWarning: Data was converted to boolean for metric jaccard\n",
      "  warnings.warn(msg, DataConversionWarning)\n"
     ]
    },
    {
     "data": {
      "text/plain": [
       "(75, 75)"
      ]
     },
     "execution_count": 22,
     "metadata": {},
     "output_type": "execute_result"
    }
   ],
   "source": [
    "# compute Jaccard similarity score matrix\n",
    "jaccard_sim = 1 - pairwise_distances(np.array(df_users), metric='jaccard')\n",
    "\n",
    "jaccard_sim.shape"
   ]
  },
  {
   "cell_type": "code",
   "execution_count": 23,
   "metadata": {
    "colab": {
     "base_uri": "https://localhost:8080/",
     "height": 698
    },
    "executionInfo": {
     "elapsed": 284,
     "status": "ok",
     "timestamp": 1679926494927,
     "user": {
      "displayName": "Αθανάσιος Σουλιώτης",
      "userId": "16355387212771253692"
     },
     "user_tz": -120
    },
    "id": "0jw5DXkKdkvc",
    "outputId": "31a795bb-5d2b-4714-a37d-b80a61a02ecd"
   },
   "outputs": [],
   "source": [
    "#create the dataframe\n",
    "similarity_df = pd.DataFrame(jaccard_sim, index=df_users.index, columns=df_users.index)\n",
    "\n",
    "similarity_df.to_csv('data/similarity_df.csv', index=True)"
   ]
  },
  {
   "cell_type": "code",
   "execution_count": 24,
   "metadata": {},
   "outputs": [],
   "source": [
    "#There were duplicate rows and columns\n",
    "similarity_df = similarity_df.drop_duplicates()\n",
    "similarity_df = similarity_df.loc[:,~similarity_df.columns.duplicated()]\n",
    "#For the user-item matrix as well\n",
    "df_users.drop_duplicates(inplace= True)"
   ]
  },
  {
   "cell_type": "code",
   "execution_count": 25,
   "metadata": {},
   "outputs": [],
   "source": [
    "#Seperate personsas dataframes\n",
    "young_users = similarity_df.loc[similarity_df.index.str.startswith('young_user')]\n",
    "old_users = similarity_df.loc[similarity_df.index.str.startswith('old_user')]\n",
    "fam_users = similarity_df.loc[similarity_df.index.str.startswith('family_user')]\n",
    "fan_users = similarity_df.loc[similarity_df.index.str.startswith('fan_user')]"
   ]
  },
  {
   "cell_type": "code",
   "execution_count": 26,
   "metadata": {},
   "outputs": [],
   "source": [
    "#save dfs\n",
    "young_users.to_csv('data/young_users.csv', index=True)\n",
    "old_users.to_csv('data/old_users.csv', index=True)\n",
    "fam_users.to_csv('data/fam_users.csv', index=True)\n",
    "fan_users.to_csv('data/fan_users.csv', index=True)"
   ]
  },
  {
   "attachments": {},
   "cell_type": "markdown",
   "metadata": {},
   "source": [
    "# **Find the 3 most similar users and movies from other personas!!!**"
   ]
  },
  {
   "cell_type": "code",
   "execution_count": 27,
   "metadata": {},
   "outputs": [],
   "source": [
    "def find_sim_users(target_user,sim_df,young_users, old_users, fam_users, fan_users):\n",
    "\n",
    "  # Retrieve the target persona from the target user's index label\n",
    "  target_persona = target_user.split('_')[0]\n",
    "  sim_df = sim_df.copy()\n",
    "  # Define the personas and their corresponding sets of users\n",
    "  personas = {'young': young_users.index,\n",
    "            'old': old_users.index,\n",
    "            'family': fam_users.index,\n",
    "            'fan': fan_users.index}\n",
    "\n",
    "  # Retrieve the set of users from the target user's persona\n",
    "  try:\n",
    "    users_from_same_persona = personas[target_persona]\n",
    "  except KeyError:\n",
    "    raise ValueError(f\"Invalid persona '{target_persona}' in target user '{target_user}'\")\n",
    "\n",
    "  # Set the similarity scores of users in the same persona as the target user to 0.0, to consider them as not similar\n",
    "  sim_df.loc[target_user, sim_df.index.str.startswith(target_persona)] = 0.0\n",
    "\n",
    "  # Sort the remaining values in the target user's row in descending order\n",
    "  similar_users_indices = sim_df.loc[target_user, :].sort_values(ascending=False).index \n",
    "\n",
    "  # Exclude the target user's index label from the list of similar users indices\n",
    "  similar_users_indices = similar_users_indices[similar_users_indices != target_user]\n",
    "\n",
    "  K=3\n",
    "\n",
    "  top_K_users = {}\n",
    "  for user_idx in similar_users_indices:\n",
    "      if len(top_K_users) == K:\n",
    "            break\n",
    "      if user_idx not in users_from_same_persona and user_idx not in top_K_users:\n",
    "            top_K_users[user_idx] = similarity_df.loc[target_user, user_idx]\n",
    "\n",
    "  return top_K_users"
   ]
  },
  {
   "cell_type": "code",
   "execution_count": 31,
   "metadata": {},
   "outputs": [],
   "source": [
    "def recommend_movies_user(target_user,similarity_df, user_item_df, young_users, old_users, fam_users, fan_users):\n",
    "    # get the n nearest similar users for the input user\n",
    "    nearest_users = find_sim_users(target_user,similarity_df, young_users, old_users, fam_users,fan_users)\n",
    "    sim_users = list(nearest_users.keys())\n",
    "    \n",
    "    # create a list of sets of the movies watched by each similar user\n",
    "    user_movies = [set(user_item_df.loc[(user, slice(None))].loc[user_item_df.loc[(user, slice(None))] == 1].index) for user in sim_users]\n",
    "\n",
    "    \n",
    "    # find the movies watched by any of the similar users\n",
    "    sim_movies = set.union(*user_movies)\n",
    "    \n",
    "    # remove the movies already watched by the input user\n",
    "    watched_movies = set(user_item_df.loc[target_user].loc[user_item_df.loc[target_user] == 1].index)\n",
    "    sim_movies = sim_movies - watched_movies\n",
    "    \n",
    "    # sort the movies by the number of similar users who watched them and return the top 10\n",
    "    sorted_sim_movies = sorted([(movie, sum([movie in user_movies[i] for i in range(len(user_movies))])) for movie in sim_movies], key=lambda x: x[1], reverse=True)\n",
    "    recommended_movies = [movie[0] for movie in sorted_sim_movies[:20] if movie[0] not in watched_movies]\n",
    "\n",
    "    return recommended_movies\n"
   ]
  },
  {
   "cell_type": "code",
   "execution_count": 32,
   "metadata": {},
   "outputs": [
    {
     "data": {
      "text/plain": [
       "['Grassland Jam',\n",
       " 'Front Row Boston',\n",
       " 'Life at the Waterhole',\n",
       " \"A Chef's Life\",\n",
       " 'Poetry in America',\n",
       " 'Painting Taos',\n",
       " 'Hemingway',\n",
       " 'The Senator from New Mexico: Pete V. Domenici',\n",
       " 'Civilization: The West and the Rest with Niall Ferguson',\n",
       " 'Uranium Twisting the Dragons Tail',\n",
       " 'Climate Artists',\n",
       " 'Simply Ming',\n",
       " 'Arts America',\n",
       " 'The Cartoon Guy Show - Elementary \"Line-scapping\"',\n",
       " 'Great Job!',\n",
       " 'Symphony for Nature: The Britt Orchestra at Crater Lake',\n",
       " 'Professor T',\n",
       " 'Climate Smart: Cities Working Together',\n",
       " 'Backroad Bites',\n",
       " 'Breathe Yoga for Kids']"
      ]
     },
     "execution_count": 32,
     "metadata": {},
     "output_type": "execute_result"
    }
   ],
   "source": [
    "recommend_movies_user(\"young_user2\",similarity_df,df_users,young_users,old_users,fam_users, fan_users)"
   ]
  },
  {
   "cell_type": "code",
   "execution_count": 34,
   "metadata": {},
   "outputs": [],
   "source": [
    "young1 = recommend_movies_user(\"young_user1\",similarity_df,df_users,young_users,old_users,fam_users,fan_users)\n",
    "fam1 = recommend_movies_user(\"family_user1\",similarity_df,df_users,young_users,old_users,fam_users,fan_users)\n",
    "old5 = recommend_movies_user(\"old_user5\",similarity_df,df_users,young_users,old_users,fam_users,fan_users)\n",
    "young5 = recommend_movies_user(\"young_user5\",similarity_df,df_users,young_users,old_users,fam_users,fan_users)\n",
    "fam6 = recommend_movies_user(\"family_user6\",similarity_df,df_users,young_users,old_users,fam_users,fan_users)"
   ]
  },
  {
   "cell_type": "code",
   "execution_count": 35,
   "metadata": {},
   "outputs": [],
   "source": [
    "#extract the category and the title of each show\n",
    "df_category = df_shows[['category',\"show\"]]"
   ]
  },
  {
   "cell_type": "code",
   "execution_count": 36,
   "metadata": {},
   "outputs": [],
   "source": [
    "#find the show id of the show in the original dataframe\n",
    "young1 = df_category.loc[df_category.show.isin(young1)]\n",
    "fam1 = df_category.loc[df_category.show.isin(fam1)]\n",
    "old5 = df_category.loc[df_category.show.isin(old5)]\n",
    "young5 = df_category.loc[df_category.show.isin(young5)]\n",
    "fam6 = df_category.loc[df_category.show.isin(fam6)]"
   ]
  },
  {
   "cell_type": "code",
   "execution_count": 37,
   "metadata": {},
   "outputs": [],
   "source": [
    "# Create the dataframe with each show assigned to each category\n",
    "df_young1 = pd.pivot_table(young1, index=\"movieId\", columns=\"category\", values=\"show\", aggfunc=lambda x: 1, fill_value=0)\n",
    "df_fam1 = pd.pivot_table(fam1, index=\"movieId\", columns=\"category\", values=\"show\", aggfunc=lambda x: 1, fill_value=0)\n",
    "df_old5 = pd.pivot_table(old5, index=\"movieId\", columns=\"category\", values=\"show\", aggfunc=lambda x: 1, fill_value=0)\n",
    "df_young5 = pd.pivot_table(young5, index=\"movieId\", columns=\"category\", values=\"show\", aggfunc=lambda x: 1, fill_value=0)\n",
    "df_fam6 = pd.pivot_table(fam6, index=\"movieId\", columns=\"category\", values=\"show\", aggfunc=lambda x: 1, fill_value=0)"
   ]
  },
  {
   "cell_type": "code",
   "execution_count": 38,
   "metadata": {},
   "outputs": [],
   "source": [
    "#concat the two dataframes for each user with the categories features\n",
    "result_df = pd.concat([df_young1, df_fam1, df_old5,df_young5,df_fam6])"
   ]
  },
  {
   "cell_type": "code",
   "execution_count": 39,
   "metadata": {},
   "outputs": [],
   "source": [
    "result_df.fillna(0,inplace= True)\n",
    "result_df = result_df.astype(int)"
   ]
  },
  {
   "cell_type": "code",
   "execution_count": 40,
   "metadata": {},
   "outputs": [],
   "source": [
    "list1 = df_young1.index.tolist()\n",
    "list2 = df_fam1.index.tolist() \n",
    "list3 = df_old5.index.tolist() \n",
    "list4 = df_young5.index.tolist() \n",
    "list5 = df_fam6.index.tolist() \n",
    "combine = [list1,list2,list3,list4,list5]\n",
    "#remove any empty lists\n",
    "combine = [lst for lst in combine if lst]"
   ]
  },
  {
   "cell_type": "code",
   "execution_count": 41,
   "metadata": {},
   "outputs": [],
   "source": [
    "#We should do it with jaccard similarity\n",
    "from sklearn.metrics import jaccard_score\n",
    "\n",
    "# Define the function to compute the Jaccard similarity between two lists\n",
    "def jaccard_similarity(x, y):\n",
    "    return jaccard_score(set(x), set(y))\n",
    "# Compute the intra-list similarity using Jaccard similarity for each dataframe\n",
    "#similarity_scores_list = []\n",
    "#for df in recommendations_list:\n",
    "similarity_scores = recmetrics.intra_list_similarity(combine,result_df)\n",
    "#similarity_scores_list.append(similarity_scores)"
   ]
  },
  {
   "cell_type": "markdown",
   "metadata": {},
   "source": [
    "**SIMPLE COLLAB FILTERING: WITHOUT CLUSTERS**"
   ]
  },
  {
   "cell_type": "code",
   "execution_count": 42,
   "metadata": {},
   "outputs": [],
   "source": [
    "from sklearn.neighbors import NearestNeighbors\n",
    "knn = NearestNeighbors(metric='cosine', algorithm='brute')\n",
    "knn.fit(similarity_df.values)\n",
    "distances, indices = knn.kneighbors(similarity_df.values, n_neighbors=4)"
   ]
  },
  {
   "cell_type": "code",
   "execution_count": 43,
   "metadata": {},
   "outputs": [],
   "source": [
    "def find_similar_users(user_name, similarity_matrix, indices, distances):\n",
    "    # get the index for the input user\n",
    "    index_for_user = similarity_matrix.index.tolist().index(user_name)\n",
    "    \n",
    "    # find the indices for the similar users\n",
    "    sim_user_indices = indices[index_for_user].tolist()\n",
    "    \n",
    "    # distances between the input user and the similar users\n",
    "    user_distances = distances[index_for_user].tolist()\n",
    "    \n",
    "    # the position of the input user in the list sim_users\n",
    "    id_user = sim_user_indices.index(index_for_user)\n",
    "    \n",
    "    # remove the input user from the list sim_users\n",
    "    sim_user_indices.remove(index_for_user)\n",
    "    \n",
    "    # remove the input movie from the list movie_users\n",
    "    user_distances.pop(id_user)\n",
    "    \n",
    "    # get the user names for the similar users\n",
    "    sim_user_names = similarity_matrix.iloc[sim_user_indices].index.tolist()\n",
    "    \n",
    "    # create a dictionary with the nearest users and their distances\n",
    "    nearest_users = {sim_user_names[i]: user_distances[i] for i in range(len(sim_user_names))}\n",
    "    \n",
    "    return nearest_users\n"
   ]
  },
  {
   "cell_type": "code",
   "execution_count": 44,
   "metadata": {},
   "outputs": [
    {
     "data": {
      "text/plain": [
       "{'young_user1': 0.45079193536322526,\n",
       " 'young_user13': 0.4508171093558916,\n",
       " 'young_user3': 0.45229225901327763}"
      ]
     },
     "execution_count": 44,
     "metadata": {},
     "output_type": "execute_result"
    }
   ],
   "source": [
    "find_similar_users(\"young_user12\", similarity_df, indices, distances)"
   ]
  },
  {
   "cell_type": "code",
   "execution_count": 45,
   "metadata": {},
   "outputs": [],
   "source": [
    "def recommend_movies(user_name, similarity_matrix, indices, distances, user_movie_df, n=3):\n",
    "    # get the n nearest similar users for the input user\n",
    "    nearest_users = find_similar_users(user_name, similarity_matrix, indices, distances)\n",
    "    sim_users = list(nearest_users.keys())[:n]\n",
    "    \n",
    "    # create a list of sets of the movies watched by each similar user\n",
    "    user_movies = [set(user_movie_df.loc[user].loc[user_movie_df.loc[user] == 1].index) for user in sim_users]\n",
    "    \n",
    "    # find the movies watched by any of the similar users\n",
    "    sim_movies = set.union(*user_movies)\n",
    "    \n",
    "    # remove the movies already watched by the input user\n",
    "    watched_movies = set(user_movie_df.loc[user_name].loc[user_movie_df.loc[user_name] == 1].index)\n",
    "    sim_movies = sim_movies - watched_movies\n",
    "    \n",
    "    # sort the movies by the number of similar users who watched them and return the top 10\n",
    "    sorted_sim_movies = sorted([(movie, sum([movie in user_movies[i] for i in range(len(user_movies))])) for movie in sim_movies], key=lambda x: x[1], reverse=True)\n",
    "    recommended_movies = [movie[0] for movie in sorted_sim_movies[:20] if movie[0] not in watched_movies]\n",
    "\n",
    "    return recommended_movies\n"
   ]
  },
  {
   "cell_type": "code",
   "execution_count": null,
   "metadata": {},
   "outputs": [],
   "source": []
  },
  {
   "cell_type": "code",
   "execution_count": 46,
   "metadata": {
    "id": "lFp7S7qqYw7x"
   },
   "outputs": [],
   "source": [
    "#Create a function to find the most similar shows(\"neighbours\") of a specific show.\n",
    "#Take as input a movie name, the similarity matrix, \n",
    "#the indices and the distances as computed in the knn \n",
    "\n",
    "def similar_movies(movie_name, sim_matrix, indices, distances, num_neighbors):\n",
    "    # get the index for the input movie\n",
    "    index_for_movie = sim_matrix.index.tolist().index(movie_name)\n",
    "    \n",
    "    # find the indices for the similar movies\n",
    "    sim_movie_indices = indices[index_for_movie][1:num_neighbors+1] # exclude the first index (which is the movie itself)\n",
    "    \n",
    "    # get the names of the similar movies from the similarity matrix\n",
    "    sim_movie_names = [sim_matrix.index[i] for i in sim_movie_indices]\n",
    "    \n",
    "    # get the distances between the input movie and the similar movies\n",
    "    sim_movie_distances = distances[index_for_movie][1:num_neighbors+1] # exclude the first distance (which is the distance to itself)\n",
    "    \n",
    "    # create a dictionary with the nearest movies and their distances\n",
    "    nearest_movies = {sim_movie_names[i]: sim_movie_distances[i] for i in range(len(sim_movie_names))}\n",
    "    \n",
    "    return sim_movie_names, nearest_movies\n"
   ]
  },
  {
   "cell_type": "code",
   "execution_count": 47,
   "metadata": {
    "colab": {
     "base_uri": "https://localhost:8080/"
    },
    "executionInfo": {
     "elapsed": 425,
     "status": "ok",
     "timestamp": 1679943074354,
     "user": {
      "displayName": "Αθανάσιος Σουλιώτης",
      "userId": "16355387212771253692"
     },
     "user_tz": -120
    },
    "id": "p-W7rms_PHaX",
    "outputId": "1ad4fe4c-ff0d-49aa-c41b-879c6c6aab0e"
   },
   "outputs": [
    {
     "name": "stderr",
     "output_type": "stream",
     "text": [
      "c:\\Users\\tinot\\anaconda3\\envs\\rs\\lib\\site-packages\\sklearn\\metrics\\pairwise.py:2025: DataConversionWarning: Data was converted to boolean for metric jaccard\n",
      "  warnings.warn(msg, DataConversionWarning)\n"
     ]
    },
    {
     "ename": "ValueError",
     "evalue": "'Wild Arizona' is not in list",
     "output_type": "error",
     "traceback": [
      "\u001b[1;31m---------------------------------------------------------------------------\u001b[0m",
      "\u001b[1;31mValueError\u001b[0m                                Traceback (most recent call last)",
      "\u001b[1;32m~\\AppData\\Local\\Temp\\ipykernel_24768\\4289353375.py\u001b[0m in \u001b[0;36m<cell line: 6>\u001b[1;34m()\u001b[0m\n\u001b[0;32m      4\u001b[0m \u001b[0mknn\u001b[0m\u001b[1;33m.\u001b[0m\u001b[0mfit\u001b[0m\u001b[1;33m(\u001b[0m\u001b[0msimilarity_df\u001b[0m\u001b[1;33m)\u001b[0m\u001b[1;33m\u001b[0m\u001b[1;33m\u001b[0m\u001b[0m\n\u001b[0;32m      5\u001b[0m \u001b[0mdistances\u001b[0m\u001b[1;33m,\u001b[0m \u001b[0mindices\u001b[0m \u001b[1;33m=\u001b[0m \u001b[0mknn\u001b[0m\u001b[1;33m.\u001b[0m\u001b[0mkneighbors\u001b[0m\u001b[1;33m(\u001b[0m\u001b[0msimilarity_df\u001b[0m\u001b[1;33m,\u001b[0m \u001b[0mn_neighbors\u001b[0m\u001b[1;33m=\u001b[0m\u001b[0mk\u001b[0m\u001b[1;33m)\u001b[0m\u001b[1;33m\u001b[0m\u001b[1;33m\u001b[0m\u001b[0m\n\u001b[1;32m----> 6\u001b[1;33m \u001b[0msimilar_movies\u001b[0m\u001b[1;33m(\u001b[0m\u001b[1;34m\"Wild Arizona\"\u001b[0m\u001b[1;33m,\u001b[0m \u001b[0msimilarity_df\u001b[0m\u001b[1;33m,\u001b[0m \u001b[0mindices\u001b[0m\u001b[1;33m,\u001b[0m \u001b[0mdistances\u001b[0m\u001b[1;33m,\u001b[0m \u001b[0mk\u001b[0m\u001b[1;33m)\u001b[0m\u001b[1;33m\u001b[0m\u001b[1;33m\u001b[0m\u001b[0m\n\u001b[0m",
      "\u001b[1;32m~\\AppData\\Local\\Temp\\ipykernel_24768\\2047517252.py\u001b[0m in \u001b[0;36msimilar_movies\u001b[1;34m(movie_name, sim_matrix, indices, distances, num_neighbors)\u001b[0m\n\u001b[0;32m      5\u001b[0m \u001b[1;32mdef\u001b[0m \u001b[0msimilar_movies\u001b[0m\u001b[1;33m(\u001b[0m\u001b[0mmovie_name\u001b[0m\u001b[1;33m,\u001b[0m \u001b[0msim_matrix\u001b[0m\u001b[1;33m,\u001b[0m \u001b[0mindices\u001b[0m\u001b[1;33m,\u001b[0m \u001b[0mdistances\u001b[0m\u001b[1;33m,\u001b[0m \u001b[0mnum_neighbors\u001b[0m\u001b[1;33m)\u001b[0m\u001b[1;33m:\u001b[0m\u001b[1;33m\u001b[0m\u001b[1;33m\u001b[0m\u001b[0m\n\u001b[0;32m      6\u001b[0m     \u001b[1;31m# get the index for the input movie\u001b[0m\u001b[1;33m\u001b[0m\u001b[1;33m\u001b[0m\u001b[1;33m\u001b[0m\u001b[0m\n\u001b[1;32m----> 7\u001b[1;33m     \u001b[0mindex_for_movie\u001b[0m \u001b[1;33m=\u001b[0m \u001b[0msim_matrix\u001b[0m\u001b[1;33m.\u001b[0m\u001b[0mindex\u001b[0m\u001b[1;33m.\u001b[0m\u001b[0mtolist\u001b[0m\u001b[1;33m(\u001b[0m\u001b[1;33m)\u001b[0m\u001b[1;33m.\u001b[0m\u001b[0mindex\u001b[0m\u001b[1;33m(\u001b[0m\u001b[0mmovie_name\u001b[0m\u001b[1;33m)\u001b[0m\u001b[1;33m\u001b[0m\u001b[1;33m\u001b[0m\u001b[0m\n\u001b[0m\u001b[0;32m      8\u001b[0m \u001b[1;33m\u001b[0m\u001b[0m\n\u001b[0;32m      9\u001b[0m     \u001b[1;31m# find the indices for the similar movies\u001b[0m\u001b[1;33m\u001b[0m\u001b[1;33m\u001b[0m\u001b[1;33m\u001b[0m\u001b[0m\n",
      "\u001b[1;31mValueError\u001b[0m: 'Wild Arizona' is not in list"
     ]
    }
   ],
   "source": [
    "#Apply the algorithm to a movie you want:\n",
    "k=3\n",
    "knn = NearestNeighbors(metric='jaccard')\n",
    "knn.fit(similarity_df)\n",
    "distances, indices = knn.kneighbors(similarity_df, n_neighbors=k)\n",
    "similar_movies(\"Wild Arizona\", similarity_df, indices, distances, k)"
   ]
  },
  {
   "cell_type": "markdown",
   "metadata": {
    "id": "CQjwhABq8-uE"
   },
   "source": [
    "2nd step: Generate recommendations based on user's preferences from the user-item matrix df_users and suggest him/her shows that has never watched before based on the similarity with the shows he/she has watched before."
   ]
  },
  {
   "cell_type": "code",
   "execution_count": 48,
   "metadata": {},
   "outputs": [],
   "source": [
    "#Function that gets the watched shows from a user, then finds the 3 nearest neighbors of each watched show.\n",
    "#After creates a dictionary of similar show based on these neighbors and sort the dictionary by distance.\n",
    "#Returns a list of 10 most similar shows that the user has not yet watched.\n",
    "def recommendations(user, similarity_df, indices, distances):\n",
    "    watched_movies = df_users.loc[user, df_users.loc[user,:] == 1].index.tolist()\n",
    "    sim_movies = {}\n",
    "    n_neighbors = 3\n",
    "    for movie in watched_movies:\n",
    "        sim_movie_names, nearest_movies = similar_movies(movie, similarity_df, indices, distances, n_neighbors)\n",
    "        for sim_movie, distance in zip(sim_movie_names, nearest_movies):\n",
    "            if sim_movie not in watched_movies and sim_movie not in sim_movies:\n",
    "                sim_movies[sim_movie] = distance\n",
    "    sorted_sim_movies = sorted(sim_movies.items(), key=lambda x: x[1])\n",
    "    recommended_movies = [movie[0] for movie in sorted_sim_movies[:20]]\n",
    "\n",
    "    return recommended_movies"
   ]
  },
  {
   "cell_type": "code",
   "execution_count": 49,
   "metadata": {},
   "outputs": [
    {
     "ename": "ValueError",
     "evalue": "\"What's Brewing with Cliff\" is not in list",
     "output_type": "error",
     "traceback": [
      "\u001b[1;31m---------------------------------------------------------------------------\u001b[0m",
      "\u001b[1;31mValueError\u001b[0m                                Traceback (most recent call last)",
      "\u001b[1;32m~\\AppData\\Local\\Temp\\ipykernel_24768\\3964363725.py\u001b[0m in \u001b[0;36m<cell line: 1>\u001b[1;34m()\u001b[0m\n\u001b[1;32m----> 1\u001b[1;33m \u001b[0myoung_user6\u001b[0m \u001b[1;33m=\u001b[0m \u001b[0mrecommendations\u001b[0m\u001b[1;33m(\u001b[0m\u001b[1;34m\"young_user6\"\u001b[0m\u001b[1;33m,\u001b[0m \u001b[0msimilarity_df\u001b[0m\u001b[1;33m,\u001b[0m \u001b[0mindices\u001b[0m\u001b[1;33m,\u001b[0m \u001b[0mdistances\u001b[0m\u001b[1;33m)\u001b[0m\u001b[1;33m\u001b[0m\u001b[1;33m\u001b[0m\u001b[0m\n\u001b[0m\u001b[0;32m      2\u001b[0m \u001b[0mprint\u001b[0m\u001b[1;33m(\u001b[0m\u001b[0myoung_user6\u001b[0m\u001b[1;33m)\u001b[0m\u001b[1;33m\u001b[0m\u001b[1;33m\u001b[0m\u001b[0m\n",
      "\u001b[1;32m~\\AppData\\Local\\Temp\\ipykernel_24768\\208337316.py\u001b[0m in \u001b[0;36mrecommendations\u001b[1;34m(user, similarity_df, indices, distances)\u001b[0m\n\u001b[0;32m      7\u001b[0m     \u001b[0mn_neighbors\u001b[0m \u001b[1;33m=\u001b[0m \u001b[1;36m3\u001b[0m\u001b[1;33m\u001b[0m\u001b[1;33m\u001b[0m\u001b[0m\n\u001b[0;32m      8\u001b[0m     \u001b[1;32mfor\u001b[0m \u001b[0mmovie\u001b[0m \u001b[1;32min\u001b[0m \u001b[0mwatched_movies\u001b[0m\u001b[1;33m:\u001b[0m\u001b[1;33m\u001b[0m\u001b[1;33m\u001b[0m\u001b[0m\n\u001b[1;32m----> 9\u001b[1;33m         \u001b[0msim_movie_names\u001b[0m\u001b[1;33m,\u001b[0m \u001b[0mnearest_movies\u001b[0m \u001b[1;33m=\u001b[0m \u001b[0msimilar_movies\u001b[0m\u001b[1;33m(\u001b[0m\u001b[0mmovie\u001b[0m\u001b[1;33m,\u001b[0m \u001b[0msimilarity_df\u001b[0m\u001b[1;33m,\u001b[0m \u001b[0mindices\u001b[0m\u001b[1;33m,\u001b[0m \u001b[0mdistances\u001b[0m\u001b[1;33m,\u001b[0m \u001b[0mn_neighbors\u001b[0m\u001b[1;33m)\u001b[0m\u001b[1;33m\u001b[0m\u001b[1;33m\u001b[0m\u001b[0m\n\u001b[0m\u001b[0;32m     10\u001b[0m         \u001b[1;32mfor\u001b[0m \u001b[0msim_movie\u001b[0m\u001b[1;33m,\u001b[0m \u001b[0mdistance\u001b[0m \u001b[1;32min\u001b[0m \u001b[0mzip\u001b[0m\u001b[1;33m(\u001b[0m\u001b[0msim_movie_names\u001b[0m\u001b[1;33m,\u001b[0m \u001b[0mnearest_movies\u001b[0m\u001b[1;33m)\u001b[0m\u001b[1;33m:\u001b[0m\u001b[1;33m\u001b[0m\u001b[1;33m\u001b[0m\u001b[0m\n\u001b[0;32m     11\u001b[0m             \u001b[1;32mif\u001b[0m \u001b[0msim_movie\u001b[0m \u001b[1;32mnot\u001b[0m \u001b[1;32min\u001b[0m \u001b[0mwatched_movies\u001b[0m \u001b[1;32mand\u001b[0m \u001b[0msim_movie\u001b[0m \u001b[1;32mnot\u001b[0m \u001b[1;32min\u001b[0m \u001b[0msim_movies\u001b[0m\u001b[1;33m:\u001b[0m\u001b[1;33m\u001b[0m\u001b[1;33m\u001b[0m\u001b[0m\n",
      "\u001b[1;32m~\\AppData\\Local\\Temp\\ipykernel_24768\\2047517252.py\u001b[0m in \u001b[0;36msimilar_movies\u001b[1;34m(movie_name, sim_matrix, indices, distances, num_neighbors)\u001b[0m\n\u001b[0;32m      5\u001b[0m \u001b[1;32mdef\u001b[0m \u001b[0msimilar_movies\u001b[0m\u001b[1;33m(\u001b[0m\u001b[0mmovie_name\u001b[0m\u001b[1;33m,\u001b[0m \u001b[0msim_matrix\u001b[0m\u001b[1;33m,\u001b[0m \u001b[0mindices\u001b[0m\u001b[1;33m,\u001b[0m \u001b[0mdistances\u001b[0m\u001b[1;33m,\u001b[0m \u001b[0mnum_neighbors\u001b[0m\u001b[1;33m)\u001b[0m\u001b[1;33m:\u001b[0m\u001b[1;33m\u001b[0m\u001b[1;33m\u001b[0m\u001b[0m\n\u001b[0;32m      6\u001b[0m     \u001b[1;31m# get the index for the input movie\u001b[0m\u001b[1;33m\u001b[0m\u001b[1;33m\u001b[0m\u001b[1;33m\u001b[0m\u001b[0m\n\u001b[1;32m----> 7\u001b[1;33m     \u001b[0mindex_for_movie\u001b[0m \u001b[1;33m=\u001b[0m \u001b[0msim_matrix\u001b[0m\u001b[1;33m.\u001b[0m\u001b[0mindex\u001b[0m\u001b[1;33m.\u001b[0m\u001b[0mtolist\u001b[0m\u001b[1;33m(\u001b[0m\u001b[1;33m)\u001b[0m\u001b[1;33m.\u001b[0m\u001b[0mindex\u001b[0m\u001b[1;33m(\u001b[0m\u001b[0mmovie_name\u001b[0m\u001b[1;33m)\u001b[0m\u001b[1;33m\u001b[0m\u001b[1;33m\u001b[0m\u001b[0m\n\u001b[0m\u001b[0;32m      8\u001b[0m \u001b[1;33m\u001b[0m\u001b[0m\n\u001b[0;32m      9\u001b[0m     \u001b[1;31m# find the indices for the similar movies\u001b[0m\u001b[1;33m\u001b[0m\u001b[1;33m\u001b[0m\u001b[1;33m\u001b[0m\u001b[0m\n",
      "\u001b[1;31mValueError\u001b[0m: \"What's Brewing with Cliff\" is not in list"
     ]
    }
   ],
   "source": [
    "young_user6 = recommendations(\"young_user6\", similarity_df, indices, distances)\n",
    "print(young_user6)"
   ]
  },
  {
   "cell_type": "code",
   "execution_count": 50,
   "metadata": {},
   "outputs": [],
   "source": [
    "#Create a function that create a list of recommendations for each user by keeping the show id\n",
    "def list_recommendations(user, df_original):\n",
    "  user_list = recommendations(user,similarity_df, indices,distances)\n",
    "  user_data = df_original.loc[df_original.show.isin(user_list)]\n",
    "  features_df = user_data.pivot_table(index=\"movieId\", columns='category', values='show', aggfunc=len, fill_value=0)\n",
    "  features_df.columns.name = None\n",
    "  index_list = features_df.index.tolist()\n",
    "       \n",
    "  return index_list"
   ]
  },
  {
   "cell_type": "code",
   "execution_count": 51,
   "metadata": {},
   "outputs": [
    {
     "ename": "ValueError",
     "evalue": "'Zoltan Maga: Live from Budapest with David Foster' is not in list",
     "output_type": "error",
     "traceback": [
      "\u001b[1;31m---------------------------------------------------------------------------\u001b[0m",
      "\u001b[1;31mValueError\u001b[0m                                Traceback (most recent call last)",
      "\u001b[1;32m~\\AppData\\Local\\Temp\\ipykernel_24768\\973113126.py\u001b[0m in \u001b[0;36m<cell line: 1>\u001b[1;34m()\u001b[0m\n\u001b[1;32m----> 1\u001b[1;33m \u001b[0mlist_recommendations\u001b[0m\u001b[1;33m(\u001b[0m\u001b[1;34m\"young_user1\"\u001b[0m\u001b[1;33m,\u001b[0m \u001b[0mdf_shows\u001b[0m\u001b[1;33m[\u001b[0m\u001b[1;33m[\u001b[0m\u001b[1;34m\"category\"\u001b[0m\u001b[1;33m,\u001b[0m\u001b[1;34m\"show\"\u001b[0m\u001b[1;33m]\u001b[0m\u001b[1;33m]\u001b[0m\u001b[1;33m)\u001b[0m\u001b[1;33m\u001b[0m\u001b[1;33m\u001b[0m\u001b[0m\n\u001b[0m",
      "\u001b[1;32m~\\AppData\\Local\\Temp\\ipykernel_24768\\2419959789.py\u001b[0m in \u001b[0;36mlist_recommendations\u001b[1;34m(user, df_original)\u001b[0m\n\u001b[0;32m      1\u001b[0m \u001b[1;31m#Create a function that create a list of recommendations for each user by keeping the show id\u001b[0m\u001b[1;33m\u001b[0m\u001b[1;33m\u001b[0m\u001b[1;33m\u001b[0m\u001b[0m\n\u001b[0;32m      2\u001b[0m \u001b[1;32mdef\u001b[0m \u001b[0mlist_recommendations\u001b[0m\u001b[1;33m(\u001b[0m\u001b[0muser\u001b[0m\u001b[1;33m,\u001b[0m \u001b[0mdf_original\u001b[0m\u001b[1;33m)\u001b[0m\u001b[1;33m:\u001b[0m\u001b[1;33m\u001b[0m\u001b[1;33m\u001b[0m\u001b[0m\n\u001b[1;32m----> 3\u001b[1;33m   \u001b[0muser_list\u001b[0m \u001b[1;33m=\u001b[0m \u001b[0mrecommendations\u001b[0m\u001b[1;33m(\u001b[0m\u001b[0muser\u001b[0m\u001b[1;33m,\u001b[0m\u001b[0msimilarity_df\u001b[0m\u001b[1;33m,\u001b[0m \u001b[0mindices\u001b[0m\u001b[1;33m,\u001b[0m\u001b[0mdistances\u001b[0m\u001b[1;33m)\u001b[0m\u001b[1;33m\u001b[0m\u001b[1;33m\u001b[0m\u001b[0m\n\u001b[0m\u001b[0;32m      4\u001b[0m   \u001b[0muser_data\u001b[0m \u001b[1;33m=\u001b[0m \u001b[0mdf_original\u001b[0m\u001b[1;33m.\u001b[0m\u001b[0mloc\u001b[0m\u001b[1;33m[\u001b[0m\u001b[0mdf_original\u001b[0m\u001b[1;33m.\u001b[0m\u001b[0mshow\u001b[0m\u001b[1;33m.\u001b[0m\u001b[0misin\u001b[0m\u001b[1;33m(\u001b[0m\u001b[0muser_list\u001b[0m\u001b[1;33m)\u001b[0m\u001b[1;33m]\u001b[0m\u001b[1;33m\u001b[0m\u001b[1;33m\u001b[0m\u001b[0m\n\u001b[0;32m      5\u001b[0m   \u001b[0mfeatures_df\u001b[0m \u001b[1;33m=\u001b[0m \u001b[0muser_data\u001b[0m\u001b[1;33m.\u001b[0m\u001b[0mpivot_table\u001b[0m\u001b[1;33m(\u001b[0m\u001b[0mindex\u001b[0m\u001b[1;33m=\u001b[0m\u001b[1;34m\"movieId\"\u001b[0m\u001b[1;33m,\u001b[0m \u001b[0mcolumns\u001b[0m\u001b[1;33m=\u001b[0m\u001b[1;34m'category'\u001b[0m\u001b[1;33m,\u001b[0m \u001b[0mvalues\u001b[0m\u001b[1;33m=\u001b[0m\u001b[1;34m'show'\u001b[0m\u001b[1;33m,\u001b[0m \u001b[0maggfunc\u001b[0m\u001b[1;33m=\u001b[0m\u001b[0mlen\u001b[0m\u001b[1;33m,\u001b[0m \u001b[0mfill_value\u001b[0m\u001b[1;33m=\u001b[0m\u001b[1;36m0\u001b[0m\u001b[1;33m)\u001b[0m\u001b[1;33m\u001b[0m\u001b[1;33m\u001b[0m\u001b[0m\n",
      "\u001b[1;32m~\\AppData\\Local\\Temp\\ipykernel_24768\\208337316.py\u001b[0m in \u001b[0;36mrecommendations\u001b[1;34m(user, similarity_df, indices, distances)\u001b[0m\n\u001b[0;32m      7\u001b[0m     \u001b[0mn_neighbors\u001b[0m \u001b[1;33m=\u001b[0m \u001b[1;36m3\u001b[0m\u001b[1;33m\u001b[0m\u001b[1;33m\u001b[0m\u001b[0m\n\u001b[0;32m      8\u001b[0m     \u001b[1;32mfor\u001b[0m \u001b[0mmovie\u001b[0m \u001b[1;32min\u001b[0m \u001b[0mwatched_movies\u001b[0m\u001b[1;33m:\u001b[0m\u001b[1;33m\u001b[0m\u001b[1;33m\u001b[0m\u001b[0m\n\u001b[1;32m----> 9\u001b[1;33m         \u001b[0msim_movie_names\u001b[0m\u001b[1;33m,\u001b[0m \u001b[0mnearest_movies\u001b[0m \u001b[1;33m=\u001b[0m \u001b[0msimilar_movies\u001b[0m\u001b[1;33m(\u001b[0m\u001b[0mmovie\u001b[0m\u001b[1;33m,\u001b[0m \u001b[0msimilarity_df\u001b[0m\u001b[1;33m,\u001b[0m \u001b[0mindices\u001b[0m\u001b[1;33m,\u001b[0m \u001b[0mdistances\u001b[0m\u001b[1;33m,\u001b[0m \u001b[0mn_neighbors\u001b[0m\u001b[1;33m)\u001b[0m\u001b[1;33m\u001b[0m\u001b[1;33m\u001b[0m\u001b[0m\n\u001b[0m\u001b[0;32m     10\u001b[0m         \u001b[1;32mfor\u001b[0m \u001b[0msim_movie\u001b[0m\u001b[1;33m,\u001b[0m \u001b[0mdistance\u001b[0m \u001b[1;32min\u001b[0m \u001b[0mzip\u001b[0m\u001b[1;33m(\u001b[0m\u001b[0msim_movie_names\u001b[0m\u001b[1;33m,\u001b[0m \u001b[0mnearest_movies\u001b[0m\u001b[1;33m)\u001b[0m\u001b[1;33m:\u001b[0m\u001b[1;33m\u001b[0m\u001b[1;33m\u001b[0m\u001b[0m\n\u001b[0;32m     11\u001b[0m             \u001b[1;32mif\u001b[0m \u001b[0msim_movie\u001b[0m \u001b[1;32mnot\u001b[0m \u001b[1;32min\u001b[0m \u001b[0mwatched_movies\u001b[0m \u001b[1;32mand\u001b[0m \u001b[0msim_movie\u001b[0m \u001b[1;32mnot\u001b[0m \u001b[1;32min\u001b[0m \u001b[0msim_movies\u001b[0m\u001b[1;33m:\u001b[0m\u001b[1;33m\u001b[0m\u001b[1;33m\u001b[0m\u001b[0m\n",
      "\u001b[1;32m~\\AppData\\Local\\Temp\\ipykernel_24768\\2047517252.py\u001b[0m in \u001b[0;36msimilar_movies\u001b[1;34m(movie_name, sim_matrix, indices, distances, num_neighbors)\u001b[0m\n\u001b[0;32m      5\u001b[0m \u001b[1;32mdef\u001b[0m \u001b[0msimilar_movies\u001b[0m\u001b[1;33m(\u001b[0m\u001b[0mmovie_name\u001b[0m\u001b[1;33m,\u001b[0m \u001b[0msim_matrix\u001b[0m\u001b[1;33m,\u001b[0m \u001b[0mindices\u001b[0m\u001b[1;33m,\u001b[0m \u001b[0mdistances\u001b[0m\u001b[1;33m,\u001b[0m \u001b[0mnum_neighbors\u001b[0m\u001b[1;33m)\u001b[0m\u001b[1;33m:\u001b[0m\u001b[1;33m\u001b[0m\u001b[1;33m\u001b[0m\u001b[0m\n\u001b[0;32m      6\u001b[0m     \u001b[1;31m# get the index for the input movie\u001b[0m\u001b[1;33m\u001b[0m\u001b[1;33m\u001b[0m\u001b[1;33m\u001b[0m\u001b[0m\n\u001b[1;32m----> 7\u001b[1;33m     \u001b[0mindex_for_movie\u001b[0m \u001b[1;33m=\u001b[0m \u001b[0msim_matrix\u001b[0m\u001b[1;33m.\u001b[0m\u001b[0mindex\u001b[0m\u001b[1;33m.\u001b[0m\u001b[0mtolist\u001b[0m\u001b[1;33m(\u001b[0m\u001b[1;33m)\u001b[0m\u001b[1;33m.\u001b[0m\u001b[0mindex\u001b[0m\u001b[1;33m(\u001b[0m\u001b[0mmovie_name\u001b[0m\u001b[1;33m)\u001b[0m\u001b[1;33m\u001b[0m\u001b[1;33m\u001b[0m\u001b[0m\n\u001b[0m\u001b[0;32m      8\u001b[0m \u001b[1;33m\u001b[0m\u001b[0m\n\u001b[0;32m      9\u001b[0m     \u001b[1;31m# find the indices for the similar movies\u001b[0m\u001b[1;33m\u001b[0m\u001b[1;33m\u001b[0m\u001b[1;33m\u001b[0m\u001b[0m\n",
      "\u001b[1;31mValueError\u001b[0m: 'Zoltan Maga: Live from Budapest with David Foster' is not in list"
     ]
    }
   ],
   "source": [
    "list_recommendations(\"young_user1\", df_shows[[\"category\",\"show\"]])"
   ]
  },
  {
   "cell_type": "markdown",
   "metadata": {
    "id": "39opERn3FBAe"
   },
   "source": [
    "## Questions\n",
    "\n",
    "- These points below are data we can add. I was thinking of creating multiple sparse matrices that indicates with ones and zeroes if they performed the tasks listen below. Based on these matrices we can create recommendations. When there is a good baseline we collect this data by collecting the interactions of the users.\n",
    "  clicked on the show \n",
    "  - watched the preview\n",
    "  - clicked on explore the show\n",
    "  - added the show to his or her list\n",
    "\n",
    "- Also we can add different user data for example\n",
    "\n",
    "  - at what time the user watched\n",
    "  - the device the user is watching on \n",
    "  - how long the user watched in a session\n",
    "\n",
    "- Questions\n",
    "  - show our personas and how we created our dataframe\n",
    "  - should the interface only show the recommendations?\n",
    "    - or also the description after clicking on a series?\n",
    "    - \n",
    "\n",
    "  - Value: exposure diversity\n",
    "    - exposure the amount they can watch (accesible interface)\n",
    "    - content diversity: watch different things (different categories)\n",
    "    - Do recommendations that are similar from the same and different categories"
   ]
  },
  {
   "cell_type": "code",
   "execution_count": 52,
   "metadata": {
    "id": "-_JvYJj6FZvO"
   },
   "outputs": [],
   "source": [
    "df_users = pd.read_csv('data/df_users.csv', encoding='latin-1', index_col=0)\n",
    "all_users = df_users.index.values"
   ]
  },
  {
   "cell_type": "code",
   "execution_count": null,
   "metadata": {},
   "outputs": [],
   "source": []
  }
 ],
 "metadata": {
  "colab": {
   "provenance": []
  },
  "kernelspec": {
   "display_name": "rs",
   "language": "python",
   "name": "python3"
  },
  "language_info": {
   "codemirror_mode": {
    "name": "ipython",
    "version": 3
   },
   "file_extension": ".py",
   "mimetype": "text/x-python",
   "name": "python",
   "nbconvert_exporter": "python",
   "pygments_lexer": "ipython3",
   "version": "3.8.16"
  },
  "vscode": {
   "interpreter": {
    "hash": "c489e76becf85335dfaf197f71a9b54540a0ed80089285e44c2676db9798ff59"
   }
  }
 },
 "nbformat": 4,
 "nbformat_minor": 1
}
